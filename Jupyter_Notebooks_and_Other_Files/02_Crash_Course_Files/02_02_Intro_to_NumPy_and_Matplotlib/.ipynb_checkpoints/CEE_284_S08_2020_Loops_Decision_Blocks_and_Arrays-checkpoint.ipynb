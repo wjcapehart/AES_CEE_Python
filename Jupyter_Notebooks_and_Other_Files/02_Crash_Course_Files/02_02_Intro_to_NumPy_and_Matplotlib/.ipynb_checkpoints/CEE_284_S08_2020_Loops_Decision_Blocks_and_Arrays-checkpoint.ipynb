{
 "cells": [
  {
   "cell_type": "markdown",
   "metadata": {},
   "source": [
    "![CEE Masthead](http://kyrill.ias.sdsmt.edu/wjc/eduresources/CEE_284_Masthead.png)\n",
    "\n",
    "# CEE 284 Session 08 (2020) (Week Three) -- Loops, Blocks, and Arrays \n",
    "\n",
    "## Victory Laps for This Session\n",
    "\n",
    "For this session we will explore\n",
    "\n",
    "*  Data Elements of Basic Python Continued\n",
    "  *  Indexing arrays & lists.\n",
    "  *  How indexing in Python is different from other languages\n",
    "*  Loops \n",
    "  *  \"Counting\" through a \"range\"\n",
    "  *  Walking through a list\n",
    "  *  While Loops\n",
    "*  If-Elif-Else Structures (Forshadowing our next session)\n",
    "* Intro to Arrays.\n",
    "\n",
    "So let’s resume where we left off from last time.\n"
   ]
  },
  {
   "cell_type": "markdown",
   "metadata": {},
   "source": [
    "## Data Elements of Basic Python (Continued)\n",
    "\n",
    "From last time we discussed working with basic python variables and lists.\n",
    "\n",
    "Before starting this session officially you should complete the HTML \"walk-through\" though we will revisit some of the later items below.\n",
    "\n",
    "#$\n",
    "We _will_ need to reseat some of our lists from last time.  (We'll steer clear of \"tupples\" since I don't like to use them.)\n"
   ]
  },
  {
   "cell_type": "code",
   "execution_count": 1,
   "metadata": {},
   "outputs": [
    {
     "name": "stdout",
     "output_type": "stream",
     "text": [
      "List a =  [0, 1, 2, 3, 4]\n",
      "List b =  [0.0, 10.0, 20.0, 30.0, 40.0]\n"
     ]
    }
   ],
   "source": [
    "#####################################################\n",
    "#\n",
    "# Giving us two lists.\n",
    "#\n",
    "\n",
    "a = [0,   1,   2,   3,   4 ]\n",
    "b = [0., 10., 20., 30., 40.]\n",
    "\n",
    "print(\"List a = \", a)\n",
    "print(\"List b = \", b)\n",
    "\n",
    "\n",
    "#\n",
    "#####################################################"
   ]
  },
  {
   "cell_type": "markdown",
   "metadata": {},
   "source": [
    "### Indexing Arrays and Lists in Python... This is going to get weird!\n",
    "\n",
    "Indexing in Python starts at zero.  Indicies are wrapped in brackets (not parentheses) So for example getting the above first element in list \"b\" is ..."
   ]
  },
  {
   "cell_type": "code",
   "execution_count": 2,
   "metadata": {},
   "outputs": [
    {
     "name": "stdout",
     "output_type": "stream",
     "text": [
      "The first element of b (element zero) is =  0.0\n"
     ]
    }
   ],
   "source": [
    "#####################################################\n",
    "#\n",
    "\n",
    "print(\"The first element of b (element zero) is = \", b[0])\n",
    "\n",
    "#\n",
    "#####################################################"
   ]
  },
  {
   "cell_type": "code",
   "execution_count": 3,
   "metadata": {},
   "outputs": [
    {
     "name": "stdout",
     "output_type": "stream",
     "text": [
      "The second element of b (element 1) is =  10.0\n"
     ]
    }
   ],
   "source": [
    "#####################################################\n",
    "#\n",
    "\n",
    "print(\"The second element of b (element 1) is = \", b[1])\n",
    "\n",
    "#\n",
    "#####################################################"
   ]
  },
  {
   "cell_type": "markdown",
   "metadata": {},
   "source": [
    "That's straight forward enough.  But what if you want to print a range of elements.  Let's say the first 3 elements (0, 1 & 2). To fetch more than one you can use the : to create the range - this is similar to other languages."
   ]
  },
  {
   "cell_type": "code",
   "execution_count": 4,
   "metadata": {},
   "outputs": [
    {
     "name": "stdout",
     "output_type": "stream",
     "text": [
      "The first three elements of b SHOULD be...  [0.0, 10.0]\n"
     ]
    }
   ],
   "source": [
    "#####################################################\n",
    "#\n",
    "\n",
    "print(\"The first three elements of b SHOULD be... \", b[0:2])\n",
    "\n",
    "#\n",
    "#####################################################"
   ]
  },
  {
   "cell_type": "markdown",
   "metadata": {},
   "source": [
    "Whoa.  This is a quirk of Python that isn't in other languages. \n",
    "\n",
    "The first listed index in a range is \"inclusive\" meaning that the first index you ask for is the first you get!  (As it should be, yes?)  \n",
    "\n",
    "BUT... (and there's always a \"but\" isn't there?)\n",
    "\n",
    "The second listed index in a given range is \"EXCLUSIVE.\"  That means that it is one ***PLUS*** the *listed* index.  So if we want to do the above example and do the first three, it must look like the one below."
   ]
  },
  {
   "cell_type": "code",
   "execution_count": 5,
   "metadata": {},
   "outputs": [
    {
     "name": "stdout",
     "output_type": "stream",
     "text": [
      "The first three elements of b are *really*...  [0.0, 10.0, 20.0]\n",
      "                                           or  [0.0, 10.0, 20.0]\n"
     ]
    }
   ],
   "source": [
    "#####################################################\n",
    "#\n",
    "\n",
    "print(\"The first three elements of b are *really*... \", b[0:2+1])\n",
    "print(\"                                           or \", b[0:3])\n",
    "\n",
    "#\n",
    "#####################################################"
   ]
  },
  {
   "cell_type": "markdown",
   "metadata": {},
   "source": [
    "#### And who came up with *that* winning idea?!?\n",
    "\n",
    "I've seen a lot of apologetics for this.  The ~~best~~ lest-unconvincing one to me is to accomodate how we think when we count vs how things indexing at zero work:\n",
    "\n",
    "\"index from 0 for the 3 spaces.\"\n",
    "\n",
    "I'm still not convinced in part because I've spent ~~years~~ decades explicitly saying 0 to N-1.  "
   ]
  },
  {
   "cell_type": "markdown",
   "metadata": {},
   "source": [
    "### Creating Ranges in Python\n",
    "\n",
    "This comes in handy to remember when you work shortly in loops or otherwise have to make a series of numbers to walk through in Python.\n",
    "\n",
    "The function to do this is called \"[range(*start*,*stop+1*,[*delta*])]\"(https://docs.python.org/3/library/functions.html#func-range)\n",
    "\n",
    "if your interval is one then you don't need that last argument.\n",
    "\n",
    "An example of this making a counting list from 1 to 10 is below.  However the data class in which a range is stored is accessed normally only through a loop (which we will need to do next)."
   ]
  },
  {
   "cell_type": "code",
   "execution_count": 6,
   "metadata": {},
   "outputs": [
    {
     "name": "stdout",
     "output_type": "stream",
     "text": [
      " range(1, 11)\n",
      "1\n",
      "2\n",
      "3\n",
      "4\n",
      "5\n",
      "6\n",
      "7\n",
      "8\n",
      "9\n",
      "10\n"
     ]
    }
   ],
   "source": [
    "#####################################################\n",
    "#\n",
    "# Range from 1 to 10\n",
    "#\n",
    "\n",
    "range1 = range(1, 10+1)\n",
    "\n",
    "print(\"\", range1)\n",
    "\n",
    "for i in range1:\n",
    "    print(i)\n",
    "\n",
    "#\n",
    "#####################################################"
   ]
  },
  {
   "cell_type": "markdown",
   "metadata": {},
   "source": [
    "## Loops\n",
    "\n",
    "And that is a good segue into loops.  \n",
    "\n",
    "There two species of loops\n",
    "\n",
    "### Counting Loops (The For Loop)\n",
    "\n",
    "Counting Loops leverage Ranges which as we saw above have that inclusive exclusive pairing.\n",
    "\n",
    "And we just did one... \n",
    "\n",
    "A few things.\n",
    "\n",
    "*  The Loops and If-Elif-Else Blocks start with : at the starter line.  \n",
    "*  You must then indent (Jupyter will do it for you).  \n",
    "*  When done with the indent the \"cue\" that you are out of the structure is simply returning to the previous indent level (or hard against the left margin).  You'll see a nested system shortly."
   ]
  },
  {
   "cell_type": "code",
   "execution_count": 7,
   "metadata": {},
   "outputs": [
    {
     "name": "stdout",
     "output_type": "stream",
     "text": [
      "i =  1 out of  5\n",
      "i =  2 out of  5\n",
      "i =  3 out of  5\n",
      "i =  4 out of  5\n",
      "i =  5 out of  5\n",
      "\n",
      "k =  0 out of  5\n",
      "k =  1 out of  5\n",
      "k =  2 out of  5\n",
      "k =  3 out of  5\n",
      "k =  4 out of  5\n",
      "k =  5 out of  5\n"
     ]
    }
   ],
   "source": [
    "#####################################################\n",
    "#\n",
    "# Range from 1 to 10\n",
    "#\n",
    "\n",
    "N = 5\n",
    "\n",
    "for i in range(1, N+1):\n",
    "    print(\"i = \", i, \"out of \", N)\n",
    "    \n",
    "print()\n",
    "\n",
    "for k in range(0, N+1):\n",
    "    print(\"k = \", k, \"out of \", N)\n",
    "\n",
    "#\n",
    "#####################################################"
   ]
  },
  {
   "cell_type": "markdown",
   "metadata": {},
   "source": [
    "It also works with lists"
   ]
  },
  {
   "cell_type": "code",
   "execution_count": 8,
   "metadata": {},
   "outputs": [
    {
     "name": "stdout",
     "output_type": "stream",
     "text": [
      "Roll Call!\n",
      "  Sharon!\n",
      "  Bobby!\n",
      "  Lonnie!\n",
      "  Tommy!\n",
      "  Annette!\n",
      "  Darlene!\n",
      "  Cubby!\n",
      "  Karen!\n",
      "  Doreen!\n"
     ]
    }
   ],
   "source": [
    "#####################################################\n",
    "#\n",
    "# For Looping through a List\n",
    "#\n",
    "#   notice that continuation is just starting a new\n",
    "#      line like you can do in R\n",
    "#\n",
    "\n",
    "mousekateeers = [\"Sharon\",\n",
    "                 \"Bobby\",\n",
    "                 \"Lonnie\",\n",
    "                 \"Tommy\",\n",
    "                 \"Annette\",\n",
    "                 \"Darlene\",\n",
    "                 \"Cubby\",\n",
    "                 \"Karen\",\n",
    "                 \"Doreen\"]\n",
    "                 \n",
    "\n",
    "print(\"Roll Call!\")\n",
    "for mousekateer in mousekateeers:\n",
    "    print(\"  \" + mousekateer + \"!\")\n",
    "\n",
    "#\n",
    "#####################################################"
   ]
  },
  {
   "cell_type": "markdown",
   "metadata": {},
   "source": [
    "### Conditional Loops (The While Loop)\n",
    "\n",
    "This one drops out when the condition is satisfied (this is what we used when we programmed Roots in Mathcad)\n",
    "\n",
    "And let's do a revisit to our first foray into programming!\n",
    "\n",
    "![Flowchart from the Presentation from CEE 284 Lecture 2](http://kyrill.ias.sdsmt.edu/wjc/eduresources/Lecture_2_Flowchart.png)"
   ]
  },
  {
   "cell_type": "code",
   "execution_count": 9,
   "metadata": {},
   "outputs": [
    {
     "name": "stdout",
     "output_type": "stream",
     "text": [
      "i+1= 3\n",
      "i+1= 5\n",
      "i+1= 7\n",
      "We're Outahere like Vladimir\n"
     ]
    }
   ],
   "source": [
    "#####################################################\n",
    "#\n",
    "# While Loop (using our first loop EVER!)\n",
    "#\n",
    "\n",
    "i = 2\n",
    "while (i <= 6):\n",
    "    print(\"i+1=\", i+1)\n",
    "    i = i + 2\n",
    "print(\"We're Outahere like Vladimir\")\n",
    "\n",
    "#\n",
    "#####################################################"
   ]
  },
  {
   "cell_type": "markdown",
   "metadata": {},
   "source": [
    "## Decision Blocks\n",
    "\n",
    "We often have choices to make when we program... here are the classics that come with Python.  Note that if you are used to using a \"case\" statement which exists in a number of languages, it's not explicitly included with Python.\n",
    "\n",
    "### A Cascading If-ElseIf-Else Block\n",
    "\n",
    "This one is a redux of the vending machine problem from Lecture 2.  Remember if you know you have a dime, you don't have to ask again if it's a nickel.\n",
    "\n",
    "Here Else If is compressed into a single word, \"elif.\"  Let's do this...\n",
    "\n",
    "![Coin Decision Cascade](http://kyrill.ias.sdsmt.edu/wjc/eduresources/CoinLoop.png)"
   ]
  },
  {
   "cell_type": "code",
   "execution_count": 10,
   "metadata": {},
   "outputs": [
    {
     "name": "stdout",
     "output_type": "stream",
     "text": [
      "value =  0.25\n"
     ]
    }
   ],
   "source": [
    "#####################################################\n",
    "#\n",
    "# If-Elif-Else Block \n",
    "#\n",
    "\n",
    "mass = 5.7 # in grams\n",
    "\n",
    "if (mass == 2.5):\n",
    "    value = 0.01 # Penny\n",
    "elif (mass == 4.0):\n",
    "    value = 0.05 # Nickel\n",
    "elif (mass == 2.3):\n",
    "    value = 0.10 # Dime\n",
    "elif (mass == 5.7):\n",
    "    value = 0.25 # Quarter\n",
    "elif (mass == 11.3):\n",
    "    value = 0.50  # kennedy half dollar\n",
    "elif (mass == 8.1):\n",
    "    value = 1.00  # new dollar coins\n",
    "else:\n",
    "    value = \"Use the right country's money\"\n",
    "    \n",
    "print(\"value = \", value)\n",
    "\n",
    "#\n",
    "#####################################################"
   ]
  },
  {
   "cell_type": "markdown",
   "metadata": {},
   "source": [
    "### Single Question If Statements\n",
    "\n",
    "And here are the single question if statements.  Note that there are only indents and the \"tell\" that we are not using elif's or else's in the list of questions. Any yes question will still allow you to ask the next one in the queue."
   ]
  },
  {
   "cell_type": "code",
   "execution_count": 11,
   "metadata": {},
   "outputs": [
    {
     "name": "stdout",
     "output_type": "stream",
     "text": [
      "0.05 is between 0.00 and 0.10\n",
      "0.05 is under 1.00\n",
      "0.05 is less than 0.50 or more than 1.00\n"
     ]
    }
   ],
   "source": [
    "#####################################################\n",
    "#\n",
    "# Singular If Statement \n",
    "#\n",
    "#   (also showing multiple conditions)\n",
    "#\n",
    "\n",
    "value = 0.05\n",
    "\n",
    "if (value >= 0) & (value <= 0.10):\n",
    "    print(value, \"is between 0.00 and 0.10\")\n",
    "if (value >= 0.10) & (value <= 0.50):\n",
    "    print(value, \"is between 0.10 and 0.50\")\n",
    "if (value >= 0.00) & (value < 1.00):\n",
    "    print(value, \"is under 1.00\")\n",
    "if (value < 0.50) | (value > 1.00):\n",
    "    print(value, \"is less than 0.50 or more than 1.00\")\n",
    "#\n",
    "#####################################################"
   ]
  },
  {
   "cell_type": "markdown",
   "metadata": {},
   "source": [
    "## Libraries in Python\n",
    "\n",
    "Python is widely used and as a consequence it has accrued a large number of support libraries of functions and resources.  Some are *very* highly specialized.  Others are sufficiently generalized to have developed wide use. Some are also integerated into more specialized libraries\n",
    "\n",
    "Today we will work with two libaries that are useful in general computation and in looking at those compitations. \n",
    "\n",
    "*  [NumPy](https://numpy.org): a library that includes support for arrays, matrices, and high-level math functions.\n"
   ]
  },
  {
   "cell_type": "markdown",
   "metadata": {},
   "source": [
    "### Accessing Libraries\n",
    "\n",
    "There are three common ways that people access these libraries.  In my scripts I prefer to put all of my called libraries towards the top of the program.  Other people put them in whenever they need them.\n",
    "\n",
    "#### Loading EVERYTHING in a Library and Putting it on the Same Plate as Everything Else.\n",
    "\n",
    "In this option, you simply make all the contents of a library.  Functions called from these libraries later in the program or script will *not* not be explicitly noticable as being taken from any given external library (which is one reason I avoid this method).  The syntax for this is\n",
    "\n",
    "``` \n",
    "##########################################################\n",
    "###\n",
    "### Call the the library \"myLibrary\"\n",
    "###\n",
    "\n",
    "from myLibrary import *\n",
    "\n",
    "### Execute the Item from myLibrary called myFunction\n",
    "\n",
    "myAnswer = myFunction( myArgument) ) \n",
    "\n",
    "###\n",
    "##########################################################\n",
    "```\n",
    "\n",
    "#### Load a Single Element From a Library and Put it on the Same Plate as Everything Else\n",
    "\n",
    "If you only one one or two items from the library and know you won't ask for more.  You can use this function.\n",
    "\n",
    "```\n",
    "##########################################################\n",
    "###\n",
    "### Call the the library \"myLibrary\" and \n",
    "###    ONLY get the functions myFunction and\n",
    "###    myOtherFunction\n",
    "\n",
    "from myLibrary import myArgument, myOtherArgument\n",
    "\n",
    "### Execute the Item from myLibrary called myFunction\n",
    "\n",
    "myAnswer = myFunction( myArgument) ) \n",
    "\n",
    "myAnswer = myFunction( myOtherArgument) ) \n",
    "\n",
    "###\n",
    "##########################################################\n",
    "```\n",
    "\n",
    "#### Loading a Library and Putting it in it's own Bento Box Compartment.\n",
    "\n",
    "You can also load a library so that all elements of a library can be accessed *and* so that you can see from what library it's being called from.  This one is my prefered method since it makes it clear through the code that the functions or other elements of a library are needing to be brought in from the outside.\n",
    "\n",
    "```\n",
    "##########################################################\n",
    "###\n",
    "### Call the the library \"myLibrary\" to be sourced\n",
    "###   with a reference to the library\n",
    "###\n",
    "\n",
    "import myLibrary\n",
    "\n",
    "### Execute the Item from myLibrary called myFunction\n",
    "\n",
    "myAnswer = myLibrary.myFunction(myArguments)\n",
    "\n",
    "###\n",
    "##########################################################\n",
    "```\n",
    "\n",
    "or you can shorthand the name of the library with an \"alias.\"  I personally like this one best.\n",
    "\n",
    "```\n",
    "##########################################################\n",
    "###\n",
    "### Call the the library \"myLibrary\" to be sourced\n",
    "###   with a reference to the library\n",
    "###\n",
    "\n",
    "import myLibrary as myL\n",
    "\n",
    "### Execute the Item from myLibrary called myFunction\n",
    "\n",
    "myAnswer = myL.myFunction(myArguments)\n",
    "\n",
    "###\n",
    "##########################################################\n",
    "```"
   ]
  },
  {
   "cell_type": "markdown",
   "metadata": {},
   "source": [
    "## Calling the Libraries we'll use today\n",
    "\n",
    "So let's get started and load the library we are going to use today.\n",
    "\n"
   ]
  },
  {
   "cell_type": "code",
   "execution_count": 12,
   "metadata": {},
   "outputs": [],
   "source": [
    "##########################################################\n",
    "#\n",
    "# Library Calls.\n",
    "#\n",
    "\n",
    "import numpy             as np\n",
    "\n",
    "#\n",
    "##########################################################"
   ]
  },
  {
   "cell_type": "markdown",
   "metadata": {},
   "source": [
    "## Kicking NumPy's Tire\n",
    "\n",
    "\n",
    "Let's start small:\n",
    "\n",
    "To invoke a one of these functions we need to use the identifier variable I declared above (i.e., np for NumPy).  For example to calculate atan(1), we would do the following."
   ]
  },
  {
   "cell_type": "code",
   "execution_count": 13,
   "metadata": {},
   "outputs": [
    {
     "name": "stdout",
     "output_type": "stream",
     "text": [
      "arc-tangent of one =  0.7853981633974483\n"
     ]
    }
   ],
   "source": [
    "#############################################\n",
    "#\n",
    "# Calling a math function with NumPy...\n",
    "#\n",
    "\n",
    "print(\"arc-tangent of one = \", np.arctan(1.0))\n",
    "\n",
    "#\n",
    "#############################################"
   ]
  },
  {
   "cell_type": "markdown",
   "metadata": {},
   "source": [
    "(which, if you remember is a quarter of $\\pi$)\n",
    "\n",
    "Notice that we invoke the library and then the function.  Here the function is [numpy.arctan](https://numpy.org/devdocs/reference/generated/numpy.arctan.html#numpy.arctan).  (For more \"traditional\" math functions you can look [here](https://numpy.org/devdocs/reference/ufuncs.html#available-ufuncs)).\n",
    "\n",
    "While here we need to check something that we often use arctangents for -- converting from vectors to angles.\n",
    "\n",
    "Consider the following image from Trigonometry.\n",
    "\n",
    "![Angles for Tangents](http://kyrill.ias.sdsmt.edu/wjc/eduresources/300px-Atan2_60.svg.png)\n",
    "\n",
    "We have an more resiliant of this function for arc-tangent that avoids divide by zero woes with [numpy.arctan2](https://numpy.org/devdocs/reference/generated/numpy.arctan2.html#numpy.arctan2)"
   ]
  },
  {
   "cell_type": "code",
   "execution_count": 14,
   "metadata": {},
   "outputs": [
    {
     "name": "stdout",
     "output_type": "stream",
     "text": [
      "arc-tangent of 1/√3 =  1.0471975511965976\n",
      "arc-tangent of  1/0 =  1.5707963267948966\n",
      "arc-tangent of -1/0 =  -1.5707963267948966\n"
     ]
    }
   ],
   "source": [
    "#############################################\n",
    "#\n",
    "# Calling a math function with NumPy...\n",
    "#\n",
    "\n",
    "print(\"arc-tangent of 1/√3 = \", np.arctan2(np.sqrt(3),1))\n",
    "\n",
    "print(\"arc-tangent of  1/0 = \", np.arctan2(1,0))\n",
    "\n",
    "print(\"arc-tangent of -1/0 = \", np.arctan2(-1,0))\n",
    "\n",
    "#\n",
    "#############################################"
   ]
  },
  {
   "cell_type": "markdown",
   "metadata": {},
   "source": [
    "We also can make some pi without memorizing 15 digits or doing trig tricks like 4atan(1).  We can also do classical _e_."
   ]
  },
  {
   "cell_type": "code",
   "execution_count": 15,
   "metadata": {},
   "outputs": [
    {
     "name": "stdout",
     "output_type": "stream",
     "text": [
      "         calculated pi =  3.141592653589793\n",
      "explicitly declared pi =  3.141592653589793\n",
      " explicitly declared e =  2.718281828459045\n"
     ]
    }
   ],
   "source": [
    "#############################################\n",
    "#\n",
    "# Calling PI and \"e\" as constants with NumPy\n",
    "#\n",
    "\n",
    "print(\"         calculated pi = \", 4*np.arctan(1.0))\n",
    "print(\"explicitly declared pi = \", np.pi) # pi\n",
    "print(\" explicitly declared e = \", np.e)  # e \n",
    "\n",
    "\n",
    "#\n",
    "#############################################"
   ]
  },
  {
   "cell_type": "markdown",
   "metadata": {},
   "source": [
    "## Arrays in Python using NumPy\n",
    "\n",
    "But here with NumPy, what we want to do is create an \"empty\" or \"zero'ed\" 1-d array (or \"vector\") to contain our answers to PI as calcualted using various integrals of our above case example.\n",
    "\n",
    "This example below uses a function called [numpy.zeros](https://docs.scipy.org/doc/numpy/reference/generated/numpy.zeros.html).  Other functions that can be used to make numpy arrays can be found [here](https://docs.scipy.org/doc/numpy/reference/routines.array-creation.html).  \n",
    "\n",
    "For example let's make an empty array of 20 elements and populating them with zeros."
   ]
  },
  {
   "cell_type": "code",
   "execution_count": 16,
   "metadata": {},
   "outputs": [
    {
     "name": "stdout",
     "output_type": "stream",
     "text": [
      "array_of_20_zeros = [0. 0. 0. 0. 0. 0. 0. 0. 0. 0. 0. 0. 0. 0. 0. 0. 0. 0. 0. 0.]\n"
     ]
    }
   ],
   "source": [
    "#############################################\n",
    "#\n",
    "# Create an vector 20-cells long and put zeros \n",
    "#   in all the slots\n",
    "#\n",
    "\n",
    "array_of_20_zeros = np.zeros(20) \n",
    "\n",
    "print(\"array_of_20_zeros =\", array_of_20_zeros)\n",
    "\n",
    "#\n",
    "#############################################"
   ]
  },
  {
   "cell_type": "markdown",
   "metadata": {},
   "source": [
    "We also can create an array that goes from one value to another in equal intervals with [numpy.arange]() (that's one R, \"***a***rray ***range***\" or if you'd rather, \"***a*** ***range***\")\n",
    "\n",
    "(And while we're here, we index arrays in Python starting with 0.)\n",
    "\n",
    "Also as before the example below creates an array from 1 to 20 (not 21)."
   ]
  },
  {
   "cell_type": "code",
   "execution_count": 17,
   "metadata": {},
   "outputs": [
    {
     "name": "stdout",
     "output_type": "stream",
     "text": [
      "array_from_1_to_21 =  [ 1  2  3  4  5  6  7  8  9 10 11 12 13 14 15 16 17 18 19 20]\n",
      "array_from_1_to_21[1] =  2\n",
      "array_from_1_to_21[0] =  1\n"
     ]
    }
   ],
   "source": [
    "############################################\n",
    "#\n",
    "# Create an vector 20-cells long and put a \n",
    "#    consecutive range of intergers in them\n",
    "#\n",
    "\n",
    "array_from_1_to_21 = np.arange(1, 21, 1) # the range works the \n",
    "\n",
    "print(\"array_from_1_to_21 = \",array_from_1_to_21)\n",
    "\n",
    "# also now that we are working with indexes in arrays\n",
    "#   as we earned with Mathcad, we might want to see \n",
    "#   if indexing starts at 0 or 1.\n",
    "\n",
    "# Spoilers: it's zero!\n",
    "\n",
    "print(\"array_from_1_to_21[1] = \",array_from_1_to_21[1]) \n",
    "\n",
    "print(\"array_from_1_to_21[0] = \",array_from_1_to_21[0])\n",
    "\n",
    "#\n",
    "#############################################"
   ]
  },
  {
   "cell_type": "markdown",
   "metadata": {},
   "source": [
    "## INTERMISSION!  A Deep-Dive on Arrays in Python\n",
    "\n",
    "Continuing from last time, remember how when python loops from 0 to N it's really looping from 0 to N-1?\n",
    "\n",
    "When migrating from older languages like Fortran or C, you may be used to what is, apparently, called inclusive indexing... because for some reason there wouldn't be a need to give a such a thing specific adjective when you'd think that it wouldn't be so bloody obvious and intuitive to do it any other way.\n",
    "\n",
    "But Oh No.........\n",
    "\n",
    "Python, along with a couple other supernew languages, do something different...\n",
    "\n",
    "Let's first borrow from a commonly used language like MATLAB, or R. (let's assume that we start our indexing with 0 like Python does).\n",
    "\n",
    "```\n",
    "strawman := (/ 1, 2, 3, 4, 5 /)\n",
    "```\n",
    "\n",
    "Let's ask for the last two values...  Normally we woud intuit that it'd be ...\n",
    "\n",
    "\n",
    "```\n",
    "print( strawman(3:4) ) \n",
    "\n",
    "(/ 4, 5 /)\n",
    "```\n",
    "\n",
    "Now let's do the same thing in Python.\n",
    "\n",
    "This time, we'll use the [numpy.array](https://numpy.org/devdocs/reference/generated/numpy.array.html) function."
   ]
  },
  {
   "cell_type": "code",
   "execution_count": 18,
   "metadata": {},
   "outputs": [
    {
     "name": "stdout",
     "output_type": "stream",
     "text": [
      "strawman[] = [0 1 2 3 4]\n",
      "strawman[3:4] = [3]\n"
     ]
    }
   ],
   "source": [
    "#############################################\n",
    "#\n",
    "# let's make a no-nonsense array\n",
    "#\n",
    "\n",
    "strawman = np.array([ 0, 1, 2, 3, 4])\n",
    "\n",
    "print('strawman[] =', strawman)\n",
    "\n",
    "#\n",
    "# and let's pull what we think should be the last two?\n",
    "#\n",
    "\n",
    "print('strawman[3:4] =', strawman[3:4])\n",
    "\n",
    "#\n",
    "#############################################"
   ]
  },
  {
   "cell_type": "markdown",
   "metadata": {},
   "source": [
    "Whaaaa?\n",
    "\n",
    "OK here is what is happening when \"slicing,\" as it's called, an array in Python. Python does something that may be seen to be counterintuitve.\n",
    "\n",
    "the first index that is requested list or array subset is inclusive\n",
    "\n",
    "that means that what you ask for is what you get. You ask for the 0 index, or in this case index #4 when starting at zero, you ask for \"3\" get that one.\n",
    "\n",
    "But..\n",
    "\n",
    "the closing index that is requested from a list or array subset is exclsuive\n",
    "so when you ask for the subset ending at #5 from zero.. it gives you... #4 from zero.\n",
    "so if you want number #5 from zero instead of typing \"4\", you type the next one... \"5\"."
   ]
  },
  {
   "cell_type": "code",
   "execution_count": 19,
   "metadata": {},
   "outputs": [
    {
     "name": "stdout",
     "output_type": "stream",
     "text": [
      "strawman[3:4+1] = [3 4]\n",
      "strawman[3:5] = [3 4]\n"
     ]
    }
   ],
   "source": [
    "#############################################\n",
    "#\n",
    "# let's make a no-nonsense array\n",
    "#\n",
    "\n",
    "#\n",
    "# so if you use the way we normally think about it...\n",
    "#\n",
    "\n",
    "print('strawman[3:4+1] =', strawman[3:4+1])\n",
    "\n",
    "# or\n",
    "\n",
    "print('strawman[3:5] =', strawman[3:5])\n",
    "\n",
    "#\n",
    "#############################################"
   ]
  },
  {
   "cell_type": "markdown",
   "metadata": {},
   "source": [
    "If you want to go from a array value 4 to the end of the array you *could* do this.  This is similar in other languages...  but as shown here if you look closer there is a lack of consistancy of you forget that the first value *requested* is \"inclusive\", the second *requested* is exclusive."
   ]
  },
  {
   "cell_type": "code",
   "execution_count": 20,
   "metadata": {},
   "outputs": [
    {
     "name": "stdout",
     "output_type": "stream",
     "text": [
      "strawman =  [0 1 2 3 4]\n",
      "\n",
      "strawman[  3: ] = [3 4]\n",
      "strawman[  3  ] = 3\n",
      "strawman[  4  ] = 4\n",
      "strawman[  -2 ] = 3\n",
      "strawman[  -1 ] = 4\n",
      "strawman[-2:-1] = [3]\n",
      "strawman[-2:  ] = [3 4]\n",
      "strawman[  :3 ] = [0 1 2]\n"
     ]
    }
   ],
   "source": [
    "#############################################\n",
    "#\n",
    "# Playing with Indices \n",
    "#\n",
    "\n",
    "#\n",
    "# so if you use the way we normally think about it...\n",
    "#\n",
    "\n",
    "print('strawman = ', strawman)\n",
    "\n",
    "print()\n",
    "\n",
    "print('strawman[  3: ] =',  strawman[ 3:  ]) # second to last their way\n",
    "print('strawman[  3  ] =',  strawman[   3 ]) # second to last alone\n",
    "print('strawman[  4  ] =',  strawman[   4 ]) # last alone (first request is inclusive)\n",
    "print('strawman[  -2 ] =',  strawman[  -2 ]) # second from last\n",
    "print('strawman[  -1 ] =',  strawman[ -1  ]) # first from last first request is inclusive\n",
    "print('strawman[-2:-1] =',  strawman[-2:-1]) # the last value is exclusive\n",
    "print('strawman[-2:  ] =',  strawman[-2:  ]) # how they want you to pull the last 2.\n",
    "print('strawman[  :3 ] =',  strawman[  :3 ]) # this pulls the first three index (0-to-2).\n",
    "\n",
    "#\n",
    "#############################################"
   ]
  },
  {
   "cell_type": "markdown",
   "metadata": {},
   "source": [
    "When you [JFGI](http://lmgtfy.com/?q=why+is+the+mother-flipping+python+indexing+inclusive+for+the+first+index+then+exclusive+for+the+second) what why this is the case you get an argument from \"elegance.\"  \n",
    "\n",
    "Whatever... but still. I prefer the following addage... \n",
    "\n",
    "\"elegance is skin deep... but intuitive functionality is to the bone\""
   ]
  },
  {
   "cell_type": "markdown",
   "metadata": {},
   "source": [
    "## Setup for Next Week's Playtime!\n",
    "\n",
    "There are a couple things you can try with the skills you have now.  But this one we can use later when we plot things!\n",
    "\n",
    "### Our Pi Case.\n",
    "\n",
    "You've done this before... you can do it here.  \n",
    "\n",
    "Recall that we are using a Reimann Sum method to do this.\n",
    "\n",
    "![Reimann Summing for Pi](http://kyrill.ias.sdsmt.edu/wjc/eduresources/PI_Integration_Figure.png)\n",
    "\n",
    "Remember the base equation\n",
    "\n",
    "$$\\pi =\\frac{1}{N}\\sum^{N}_{i=1}\\frac{4}{1+x^2}$$\n",
    "\n",
    "And the pseudocode.  \n",
    "\n",
    "Just enter the block below by declaring a variable n.\n",
    "\n",
    "```\n",
    "Input the value “n” \n",
    "if n < 1 then\n",
    "{\n",
    "   print an error statement\n",
    "}\n",
    "else \n",
    "{\n",
    "   h = 1 / n\n",
    "   sum  = 0\n",
    "   repeat i from 1 to n by 1\n",
    "   {\n",
    "      x = h * (i - 0.5)\n",
    "      sum = sum + 4 / (1 + x*x)\n",
    "   }\n",
    "   pi = h * sum\n",
    "   return, pi\n",
    "}\n",
    "```\n",
    "\n",
    "At this point, you can do this by hand and should have this ready for class.  There will be no quiz this week for Week 3 but there WILL be an assignment for you to manually (pen and paper) to walk through this code."
   ]
  },
  {
   "cell_type": "markdown",
   "metadata": {},
   "source": [
    "## Version Information"
   ]
  },
  {
   "cell_type": "code",
   "execution_count": 21,
   "metadata": {},
   "outputs": [
    {
     "data": {
      "application/json": {
       "Software versions": [
        {
         "module": "Python",
         "version": "3.8.3 64bit [Clang 10.0.0 ]"
        },
        {
         "module": "IPython",
         "version": "7.16.1"
        },
        {
         "module": "OS",
         "version": "macOS 10.15.6 x86_64 i386 64bit"
        },
        {
         "module": "version_information",
         "version": "1.0.3"
        },
        {
         "module": "numpy",
         "version": "1.18.5"
        }
       ]
      },
      "text/html": [
       "<table><tr><th>Software</th><th>Version</th></tr><tr><td>Python</td><td>3.8.3 64bit [Clang 10.0.0 ]</td></tr><tr><td>IPython</td><td>7.16.1</td></tr><tr><td>OS</td><td>macOS 10.15.6 x86\\_64 i386 64bit</td></tr><tr><td>version_information</td><td>1.0.3</td></tr><tr><td>numpy</td><td>1.18.5</td></tr><tr><td colspan='2'>Thu Sep 03 15:18:43 2020 MDT</td></tr></table>"
      ],
      "text/latex": [
       "\\begin{tabular}{|l|l|}\\hline\n",
       "{\\bf Software} & {\\bf Version} \\\\ \\hline\\hline\n",
       "Python & 3.8.3 64bit [Clang 10.0.0 ] \\\\ \\hline\n",
       "IPython & 7.16.1 \\\\ \\hline\n",
       "OS & macOS 10.15.6 x86\\_64 i386 64bit \\\\ \\hline\n",
       "version_information & 1.0.3 \\\\ \\hline\n",
       "numpy & 1.18.5 \\\\ \\hline\n",
       "\\hline \\multicolumn{2}{|l|}{Thu Sep 03 15:18:43 2020 MDT} \\\\ \\hline\n",
       "\\end{tabular}\n"
      ],
      "text/plain": [
       "Software versions\n",
       "Python 3.8.3 64bit [Clang 10.0.0 ]\n",
       "IPython 7.16.1\n",
       "OS macOS 10.15.6 x86_64 i386 64bit\n",
       "version_information 1.0.3\n",
       "numpy 1.18.5\n",
       "Thu Sep 03 15:18:43 2020 MDT"
      ]
     },
     "execution_count": 21,
     "metadata": {},
     "output_type": "execute_result"
    }
   ],
   "source": [
    "################################################################\n",
    "#\n",
    "# Loading Version Information\n",
    "#\n",
    "\n",
    "%load_ext version_information\n",
    "%version_information version_information, numpy\n",
    "\n",
    "#\n",
    "################################################################"
   ]
  },
  {
   "cell_type": "code",
   "execution_count": null,
   "metadata": {},
   "outputs": [],
   "source": []
  }
 ],
 "metadata": {
  "kernelspec": {
   "display_name": "Python 3",
   "language": "python",
   "name": "python3"
  },
  "language_info": {
   "codemirror_mode": {
    "name": "ipython",
    "version": 3
   },
   "file_extension": ".py",
   "mimetype": "text/x-python",
   "name": "python",
   "nbconvert_exporter": "python",
   "pygments_lexer": "ipython3",
   "version": "3.8.3"
  }
 },
 "nbformat": 4,
 "nbformat_minor": 4
}
