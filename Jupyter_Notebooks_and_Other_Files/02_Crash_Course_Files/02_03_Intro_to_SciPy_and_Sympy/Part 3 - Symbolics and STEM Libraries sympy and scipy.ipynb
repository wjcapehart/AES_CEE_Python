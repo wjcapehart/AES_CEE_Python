{
 "cells": [
  {
   "cell_type": "markdown",
   "metadata": {},
   "source": [
    "![CEE Masthead](https://kyrill.ias.sdsmt.edu/wjc/eduresources/CEE_284_Masthead.png)\n",
    "# Part 3 : Symbolics and STEM Libraries: SymPy and SciPy\n",
    "\n",
    "\n",
    "Last time we explored working with plotting and also working with the basic math-and-array library for python.  \n",
    "\n",
    "Today we are going to get a little more abstract with two libraries that manage advance math.  This will also empower us to be able to attack Roots and Matrices.   \n",
    "\n",
    "These two libraries are\n",
    "\n",
    "[SciPy](https://scipy.org/scipylib/index.html) : A set of resources for linear algebra, statistics, and differentiation/integration.\n",
    "[SymPy](https://www.sympy.org/en/index.html) : A symbolic computer algebra system (which does a few things that we’ve done with Mathcad.\n",
    "\n",
    "We’ll start by exploring SymPy and then move forward with some tricks in SciPy.  This will then have us ready to start attacking some of our past homework assignments the “python” way.  "
   ]
  },
  {
   "cell_type": "markdown",
   "metadata": {},
   "source": [
    "## Loading the Libraries\n",
    "\n",
    "Let's start by loading up a set of libraries that we'll be working with today.\n",
    "\n",
    "Along with the above two libraries we'll be digging out NumPy and Matplotlib.\n",
    "\n",
    "Let's call our four libraries using the handle system to \"grab\" them when we run our program."
   ]
  },
  {
   "cell_type": "code",
   "execution_count": 1,
   "metadata": {},
   "outputs": [
    {
     "name": "stderr",
     "output_type": "stream",
     "text": [
      "/var/folders/0c/8xbkg06s6cz0yy2505h06nlm00017d/T/ipykernel_47601/3626182775.py:21: DeprecationWarning: scipy.misc is deprecated and will be removed in 2.0.0\n",
      "  import scipy.misc        as scimisc # some other tools (includes derivatives)\n"
     ]
    }
   ],
   "source": [
    "##########################################################\n",
    "#\n",
    "# Library Calls.\n",
    "#\n",
    "\n",
    "import numpy             as np\n",
    "import matplotlib.pyplot as plt\n",
    "\n",
    "# loading sympy\n",
    "\n",
    "import sympy             as sym\n",
    "\n",
    "# For SciPy, there are some modules that you will need to\n",
    "#    explicitly pull (rather like the pyplot area \n",
    "#    of matplotlib)\n",
    "\n",
    "import scipy             as sci     # basic scipy \n",
    "import scipy.integrate   as sciint  # integration tools\n",
    "import scipy.optimize    as sciopt  # optimization tools (for roots)\n",
    "import scipy.linalg      as scilina # linear algebra tools \n",
    "import scipy.misc        as scimisc # some other tools (includes derivatives)\n",
    " \n",
    "\n",
    "\n",
    "#\n",
    "##########################################################"
   ]
  },
  {
   "cell_type": "markdown",
   "metadata": {},
   "source": [
    "## Sympy Play\n",
    "\n",
    "\n",
    "### Starting with Making a Variable\n",
    "Variables in symbolic math solvers be it with Python or also with MATLAB are handled differently than an ordinary variable or array.  \n",
    "\n",
    "To play in SymPy, we create a variable (or symbol).  This will be independant of the numpy library we worked with last session as will alot of things we'll be doing in this part of today's exercise.   \n",
    "\n",
    "To access the the function to create a variable, just as we did with the numpy library, we invoke the library and then the symbols() function.  The documentation for it is here:  [sympy.symbols](https://docs.sympy.org/latest/modules/core.html#sympy.core.symbol.symbols).\n"
   ]
  },
  {
   "cell_type": "code",
   "execution_count": 2,
   "metadata": {},
   "outputs": [],
   "source": [
    "################################################################\n",
    "#\n",
    "# Let's make a x and y for use in symbolic solutions\n",
    "#\n",
    "\n",
    "x = sym.symbols('x')\n",
    "y = sym.symbols('y')\n",
    "\n",
    "#\n",
    "################################################################"
   ]
  },
  {
   "cell_type": "markdown",
   "metadata": {},
   "source": [
    "### A Little Calc-Fu\n",
    "\n",
    "Now let's test this with something simple:  Let's do a very simple derivative using the [sympy.diff](https://docs.sympy.org/latest/modules/core.html#sympy.core.function.diff) function:  \n",
    "\n",
    "$$ \\frac{d}{dx}\\left(x^2 - 3 x + 2 \\right) $$"
   ]
  },
  {
   "cell_type": "code",
   "execution_count": 3,
   "metadata": {},
   "outputs": [
    {
     "data": {
      "text/latex": [
       "$\\displaystyle 2 x - 3$"
      ],
      "text/plain": [
       "2*x - 3"
      ]
     },
     "execution_count": 3,
     "metadata": {},
     "output_type": "execute_result"
    }
   ],
   "source": [
    "################################################################\n",
    "#\n",
    "# Demonstrating how differentiate\n",
    "#  a very simple math function\n",
    "#\n",
    "\n",
    "sym.diff(x**2 - 3 * x + 2,  # we write the function.... \n",
    "         x)                 # and we're differentiating by \"x\"\n",
    "\n",
    "#\n",
    "################################################################"
   ]
  },
  {
   "cell_type": "markdown",
   "metadata": {},
   "source": [
    "Ooooo... Pretty.  If you look closely the font is different than the normal python output.  That's acutally HTML in Jupyter.  (It's not as pretty if you have to work in a boring terminal.  Indeed the results can be so ugly that I avoided SymPy before working with Jupyter Notebooks.  "
   ]
  },
  {
   "cell_type": "markdown",
   "metadata": {},
   "source": [
    "OK now let's try this one (more relevant to what we are doing above with pi!)...\n",
    "\n",
    "$$ \\frac{d}{dx}\\left( 4  \\arctan{x} \\right) $$\n",
    "\n",
    "(Note that we will need to use SymPy's version of any math function that you'd otherwise use from the NumPy python library where you'd normally do your number-crunching.)"
   ]
  },
  {
   "cell_type": "code",
   "execution_count": 4,
   "metadata": {},
   "outputs": [
    {
     "data": {
      "text/latex": [
       "$\\displaystyle \\frac{4}{x^{2} + 1}$"
      ],
      "text/plain": [
       "4/(x**2 + 1)"
      ]
     },
     "execution_count": 4,
     "metadata": {},
     "output_type": "execute_result"
    }
   ],
   "source": [
    "################################################################\n",
    "#\n",
    "# Demonstrating how differentiate\n",
    "#  using a basic math function \n",
    "#\n",
    "\n",
    "sym.diff( 4 * sym.atan(x), x)\n",
    "\n",
    "#\n",
    "################################################################"
   ]
  },
  {
   "cell_type": "markdown",
   "metadata": {},
   "source": [
    "still pretty.\n",
    "\n",
    "Bet you can guess what we do next:\n",
    "\n",
    "We can symbolically integrate as well... (We'll use SciPy for this shortly.)  Such as the one from our pi example.  The function for symbolic integration, while accessable from the \"root\" sympy library area is [sympy.integrals.integrals.integrate](https://docs.sympy.org/latest/modules/integrals/integrals.html#sympy.integrals.integrals.integrate)\n",
    "\n",
    "$$ \\int {\\frac{4}{1 + x^2}}dx  $$"
   ]
  },
  {
   "cell_type": "code",
   "execution_count": 5,
   "metadata": {},
   "outputs": [
    {
     "data": {
      "text/latex": [
       "$\\displaystyle 4 \\operatorname{atan}{\\left(x \\right)}$"
      ],
      "text/plain": [
       "4*atan(x)"
      ]
     },
     "execution_count": 5,
     "metadata": {},
     "output_type": "execute_result"
    }
   ],
   "source": [
    "################################################################\n",
    "#\n",
    "# Demonstrating how integrate a function \n",
    "#\n",
    "\n",
    "sym.integrate(  4 / (1 + x*x), # our function\n",
    "                x)             # the value overwhich we'll integrate\n",
    "#\n",
    "################################################################"
   ]
  },
  {
   "cell_type": "markdown",
   "metadata": {},
   "source": [
    "And we can request specific ranges for our integral!\n",
    "\n",
    "$$ \\int_{0}^{1} {\\frac{4}{1 + x^2}}dx  $$"
   ]
  },
  {
   "cell_type": "code",
   "execution_count": 6,
   "metadata": {},
   "outputs": [
    {
     "data": {
      "text/latex": [
       "$\\displaystyle \\pi$"
      ],
      "text/plain": [
       "pi"
      ]
     },
     "execution_count": 6,
     "metadata": {},
     "output_type": "execute_result"
    }
   ],
   "source": [
    "################################################################\n",
    "#\n",
    "# Demonstrating how integrate a function \n",
    "#   over a range (this time the last one is inclusive)\n",
    "#\n",
    "\n",
    "sym.integrate(  4 / (1 + x*x), # our function\n",
    "                (x, 0, 1) )    # the value and limits over \n",
    "                               #   which we'll integrate\n",
    "\n",
    "#\n",
    "################################################################"
   ]
  },
  {
   "cell_type": "markdown",
   "metadata": {},
   "source": [
    "(Honestly the first time I did this on Jupyter, I was expecting the equivalent of np.pi!)"
   ]
  },
  {
   "cell_type": "markdown",
   "metadata": {},
   "source": [
    "### Simple Root-Fu!\n",
    "\n",
    "We'll play rough with roots with SciPy shortly as well... but let's do a little Sympi fun first.\n",
    "\n",
    "Let's try a basic quadradic equation!  Here we can pretend that we've already slammed all of our terms on one side of the equal sign.\n",
    "\n",
    "$$ f(x) = x^2 - 3 x + 2 $$\n",
    "\n",
    "(This is one the school board would allow Mrs Mercer to give you in Middle School and it's easy to factor without fighting with or having to remember the quadradic equation song.)\n",
    "\n",
    "But remember... what do we do first? \n",
    "\n",
    "Yup, we plot it!\n",
    "\n",
    "SymPy has a separate [plotting library](https://docs.sympy.org/latest/modules/plotting.html) using elements from matplotlib comes in handy here... You can also zero in on your x-range in a way that is similar to the above calculus integration method!  The default, like Mathcad, is to plot x from -10 to +10."
   ]
  },
  {
   "cell_type": "code",
   "execution_count": 7,
   "metadata": {},
   "outputs": [
    {
     "data": {
      "image/png": "[encoded data removed]",
      "text/plain": [
       "<Figure size 640x480 with 1 Axes>"
      ]
     },
     "metadata": {},
     "output_type": "display_data"
    },
    {
     "data": {
      "text/plain": [
       "<sympy.plotting.backends.matplotlibbackend.matplotlib.MatplotlibBackend at 0x152d8b380>"
      ]
     },
     "execution_count": 7,
     "metadata": {},
     "output_type": "execute_result"
    }
   ],
   "source": [
    "################################################################\n",
    "#\n",
    "# Showing how to plot a function using \n",
    "#   the SymPy package (and how to plot it\n",
    "#   over a range where x is bounded between \n",
    "#   0 and 3).\n",
    "#\n",
    "\n",
    "sym.plotting.plot(x**2 - 3*x + 2, # here is our function\n",
    "                  (x, 0, 3))      # and our x axis \n",
    "                                  # is set from 0 to 3)\n",
    "\n",
    "#\n",
    "################################################################\n",
    "\n"
   ]
  },
  {
   "cell_type": "markdown",
   "metadata": {},
   "source": [
    "For a more complicated problem you could now fetch a couple values on the x axis for first guesses of your root!\n",
    "\n",
    "But let's try this function below to solve the system using [sympy.solve](https://docs.sympy.org/latest/modules/solvers/solvers.html?highlight=sympy.solve#sympy.solvers.solvers.solve)."
   ]
  },
  {
   "cell_type": "code",
   "execution_count": 8,
   "metadata": {},
   "outputs": [
    {
     "data": {
      "text/plain": [
       "[1, 2]"
      ]
     },
     "execution_count": 8,
     "metadata": {},
     "output_type": "execute_result"
    }
   ],
   "source": [
    "################################################################\n",
    "#\n",
    "# Demonstrating the Sym.Solve Function\n",
    "#\n",
    "\n",
    "sym.solve(x**2 - 3*x + 2, # our function\n",
    "                       x) # solve for x. (stick a pin in this one!)\n",
    "\n",
    "#\n",
    "################################################################"
   ]
  },
  {
   "cell_type": "markdown",
   "metadata": {},
   "source": [
    "And we can have a little more fun (if you think flashbacks back to Mrs Mercer's Algebra class is \"fun.\") with [sympy.factor](https://docs.sympy.org/latest/modules/polys/reference.html?highlight=factor#sympy.polys.polytools.factor)"
   ]
  },
  {
   "cell_type": "code",
   "execution_count": 9,
   "metadata": {},
   "outputs": [
    {
     "data": {
      "text/latex": [
       "$\\displaystyle \\left(x - 2\\right) \\left(x - 1\\right)$"
      ],
      "text/plain": [
       "(x - 2)*(x - 1)"
      ]
     },
     "execution_count": 9,
     "metadata": {},
     "output_type": "execute_result"
    }
   ],
   "source": [
    "################################################################\n",
    "#\n",
    "# Showing-off the Factoring Function\n",
    "#\n",
    "\n",
    "sym.factor(x**2 - 3*x + 2, # our function\n",
    "                        x) # solve for x\n",
    "\n",
    "#\n",
    "################################################################"
   ]
  },
  {
   "cell_type": "markdown",
   "metadata": {},
   "source": [
    "We can also do a bounded root solution (For a simple nonlinear equation, it's defaulting to the secant method. It can also manage oversolved / overdetermined systems.).  Here we use [sympy.nsolve](https://docs.sympy.org/latest/modules/solvers/solvers.html?highlight=nsolve#sympy.solvers.solvers.nsolve)."
   ]
  },
  {
   "cell_type": "code",
   "execution_count": 10,
   "metadata": {},
   "outputs": [
    {
     "data": {
      "text/latex": [
       "$\\displaystyle 1.0$"
      ],
      "text/plain": [
       "1.00000000000000"
      ]
     },
     "execution_count": 10,
     "metadata": {},
     "output_type": "execute_result"
    }
   ],
   "source": [
    "################################################################\n",
    "#\n",
    "# Showing-off the Nsolve Function\n",
    "#\n",
    "\n",
    "sym.nsolve((x**2 - 3*x + 2), # our function\n",
    "                          x, # solve for x\n",
    "                   [0, 1.5]) # between these bounds\n",
    "\n",
    "#\n",
    "################################################################"
   ]
  },
  {
   "cell_type": "code",
   "execution_count": 11,
   "metadata": {},
   "outputs": [
    {
     "name": "stdout",
     "output_type": "stream",
     "text": [
      "x:     1.33333333333333333333\n",
      "error: 1.5\n",
      "x:     -2.09640654445439333919e-20\n",
      "error: 0.166666666666666666667\n",
      "x:     1.2\n",
      "error: 1.33333333333333333335\n",
      "x:     1.11111111111111111111\n",
      "error: 1.20000000000000000002\n",
      "x:     0.967741935483870967741\n",
      "error: 0.0888888888888888888884\n",
      "x:     1.00389105058365758755\n",
      "error: 0.143369175627240143372\n",
      "x:     1.00012205541315757354\n",
      "error: 0.0361491150997866198078\n",
      "x:     0.999999523162614423091\n",
      "error: 0.00376899517050001401046\n",
      "x:     1.00000000005820766091\n",
      "error: 0.000122532250543150447253\n",
      "x:     1.00000000000000002776\n",
      "error: 4.76895593237818942725e-7\n",
      "x:     1.0\n",
      "error: 5.82076331545036598086e-11\n",
      "x:     1.0\n",
      "error: 2.77555756156289135106e-17\n"
     ]
    },
    {
     "data": {
      "text/latex": [
       "$\\displaystyle 1.0$"
      ],
      "text/plain": [
       "1.00000000000000"
      ]
     },
     "execution_count": 11,
     "metadata": {},
     "output_type": "execute_result"
    }
   ],
   "source": [
    "################################################################\n",
    "#\n",
    "# Showing-off the Nsolve Function WITH verbose output\n",
    "#\n",
    "\n",
    "sym.nsolve((x**2 - 3*x + 2), # our function\n",
    "                          x, # solve for x\n",
    "                   [0, 1.5], # between these bounds\n",
    "             verbose = True) # and show us the details of our proceedures!\n",
    "\n",
    "#\n",
    "################################################################"
   ]
  },
  {
   "cell_type": "code",
   "execution_count": 12,
   "metadata": {},
   "outputs": [
    {
     "name": "stdout",
     "output_type": "stream",
     "text": [
      "x:     1.33333333333333333333\n",
      "error: 1.5\n",
      "x:     -2.09640654445439333919e-20\n",
      "error: 0.166666666666666666667\n",
      "x:     1.2\n",
      "error: 1.33333333333333333335\n",
      "x:     1.11111111111111111111\n",
      "error: 1.20000000000000000002\n",
      "x:     0.967741935483870967741\n",
      "error: 0.0888888888888888888884\n",
      "x:     1.00389105058365758755\n",
      "error: 0.143369175627240143372\n",
      "x:     1.00012205541315757354\n",
      "error: 0.0361491150997866198078\n",
      "x:     0.999999523162614423091\n",
      "error: 0.00376899517050001401046\n",
      "x:     1.00000000005820766091\n",
      "error: 0.000122532250543150447253\n",
      "x:     1.00000000000000002776\n",
      "error: 4.76895593237818942725e-7\n",
      "x:     1.0\n",
      "error: 5.82076331545036598086e-11\n",
      "x:     1.0\n",
      "error: 2.77555756156289135106e-17\n"
     ]
    },
    {
     "data": {
      "text/latex": [
       "$\\displaystyle 1.0$"
      ],
      "text/plain": [
       "1.00000000000000"
      ]
     },
     "execution_count": 12,
     "metadata": {},
     "output_type": "execute_result"
    }
   ],
   "source": [
    "################################################################\n",
    "#\n",
    "# MORE Showing-off the Nsolve Function WITH verbose output\n",
    "#\n",
    "\n",
    "sym.nsolve((x**2 - 3*x + 2), # our function\n",
    "                          x, # solve for x\n",
    "                   [0, 1.5], # between these bounds\n",
    "             verbose = True) # and show us the details of our proceedures!\n",
    "\n",
    "#\n",
    "################################################################"
   ]
  },
  {
   "cell_type": "code",
   "execution_count": 13,
   "metadata": {},
   "outputs": [
    {
     "name": "stdout",
     "output_type": "stream",
     "text": [
      "x:     0.928571428571428571429\n",
      "error: 0.25\n",
      "x:     0.986486486486486486487\n",
      "error: 0.178571428571428571429\n",
      "x:     0.999110320284697508897\n",
      "error: 0.0579150579150579150581\n",
      "x:     0.999988148007680091023\n",
      "error: 0.0126238337982110224101\n",
      "x:     0.999999989465020465146\n",
      "error: 0.000877827722982582126238\n",
      "x:     0.999999999999875140984\n",
      "error: 0.000011841457340374123107\n",
      "x:     0.999999999999999999999\n",
      "error: 1.05348546758382260715e-8\n",
      "x:     1.0\n",
      "error: 1.24859014466344197571e-13\n",
      "x:     1.0\n",
      "error: 1.05879118406787542384e-21\n"
     ]
    },
    {
     "data": {
      "text/latex": [
       "$\\displaystyle 1.0$"
      ],
      "text/plain": [
       "1.00000000000000"
      ]
     },
     "execution_count": 13,
     "metadata": {},
     "output_type": "execute_result"
    }
   ],
   "source": [
    "################################################################\n",
    "#\n",
    "# EVEN MORE Showing-off the Nsolve Function WITH STILL MORE \n",
    "#       verbose output\n",
    "#\n",
    "\n",
    "\n",
    "\n",
    "sym.nsolve((x**2 - 3*x + 2), # our function\n",
    "                          x, # solve for x\n",
    "               [0.50, 0.75], # between these bounds\n",
    "            solver='secant', # choose your method\n",
    "             verbose = True) # and show us the details of our proceedures!\n",
    "\n",
    "#\n",
    "################################################################"
   ]
  },
  {
   "cell_type": "markdown",
   "metadata": {},
   "source": [
    "### A Couple Simultaneous Equations, (Root-Style)\n",
    "\n",
    "Let's now leverage symbolic solutions to do some simple simultaneous equations.\n",
    "\n",
    "Consider our standard linaer equation pair.\n",
    "\n",
    "$$f(x,y) = 2x-y+2$$\n",
    "$$g(x,y) = 2x+y-6$$\n",
    "\n",
    "recall from our earlier work that \n",
    "$$x = 1$$\n",
    "$$y = 4$$\n",
    "\n",
    "We'll explore a few elements of this that demonstrate the SymPy features\n",
    "\n",
    "First we'll need a symbolic symbol for y:"
   ]
  },
  {
   "cell_type": "code",
   "execution_count": 14,
   "metadata": {},
   "outputs": [
    {
     "data": {
      "text/plain": [
       "{x: 1, y: 4}"
      ]
     },
     "execution_count": 14,
     "metadata": {},
     "output_type": "execute_result"
    }
   ],
   "source": [
    "################################################################\n",
    "#\n",
    "# Solve the two equations symbolically using the same tool\n",
    "#\n",
    "\n",
    "sym.solve([2*x - y + 2,  # our f(x,y) function\n",
    "           2*x + y - 6], # our g(x,y) function\n",
    "                   x,y) # solve for x. (stick a pin in this one!)\n",
    "\n",
    "#\n",
    "################################################################"
   ]
  },
  {
   "cell_type": "markdown",
   "metadata": {},
   "source": [
    "We can also prep our equations for plotting"
   ]
  },
  {
   "cell_type": "code",
   "execution_count": 15,
   "metadata": {},
   "outputs": [
    {
     "name": "stdout",
     "output_type": "stream",
     "text": [
      "[2*x + 2]\n",
      "[6 - 2*x]\n"
     ]
    }
   ],
   "source": [
    "################################################################\n",
    "#\n",
    "# Solve the two equations symbolically using the same tool\n",
    "#\n",
    "\n",
    "yf = sym.solve(2*x - y + 2, # our g(x,y) function\n",
    "                    y) # solve for x. (stick a pin in this one!)\n",
    "\n",
    "yg = sym.solve( 2*x + y - 6, # our g(x,y) function\n",
    "                     y) # solve for x. (stick a pin in this one!)\n",
    "\n",
    "print(yf)\n",
    "print(yg)\n",
    "\n",
    "#\n",
    "################################################################"
   ]
  },
  {
   "cell_type": "markdown",
   "metadata": {},
   "source": [
    "and we can plot!"
   ]
  },
  {
   "cell_type": "code",
   "execution_count": 16,
   "metadata": {},
   "outputs": [
    {
     "data": {
      "image/png": "[encoded data removed]",
      "text/plain": [
       "<Figure size 640x480 with 1 Axes>"
      ]
     },
     "metadata": {},
     "output_type": "display_data"
    },
    {
     "data": {
      "text/plain": [
       "<sympy.plotting.backends.matplotlibbackend.matplotlib.MatplotlibBackend at 0x153a47440>"
      ]
     },
     "execution_count": 16,
     "metadata": {},
     "output_type": "execute_result"
    }
   ],
   "source": [
    "################################################################\n",
    "#\n",
    "# Now let's plot two equations at once.\n",
    "#\n",
    "\n",
    "sym.plotting.plot(( 2*x + 2), # yf(x)\n",
    "                  (-2*x + 6), # yg(x)\n",
    "                    (x,-1,3)) # zoom in on the x axis\n",
    "                                   \n",
    "\n",
    "#\n",
    "################################################################\n",
    "\n"
   ]
  },
  {
   "cell_type": "markdown",
   "metadata": {},
   "source": [
    "and now let's do some of these steps in our other library to explore in this session:  SciPy\n",
    "\n",
    "## Exploring Some Features in SciPy\n",
    "\n",
    "We'll mirror some of our earier work from above \n",
    "\n",
    "Let's start with our arctangent-pi play from above.\n",
    "\n",
    "$  f(x) = \\frac{4}{1+x^2} $\n",
    "\n",
    "Here is how we express this in a [function](https://docs.python.org/3/tutorial/controlflow.html#defining-functions) in Python. (You can also do this with pi from our previous sessions.)"
   ]
  },
  {
   "cell_type": "code",
   "execution_count": 17,
   "metadata": {},
   "outputs": [],
   "source": [
    "################################################################\n",
    "#\n",
    "# let's make a \"function\" in python\n",
    "#\n",
    "\n",
    "def f(x) :\n",
    "    return(4 / (1 + x**2))\n",
    "\n",
    "#\n",
    "################################################################"
   ]
  },
  {
   "cell_type": "markdown",
   "metadata": {},
   "source": [
    "... and plot it out (As you get braver and more confortable with plotting in python there are tools that make nice and fancy plots, but for now let's keep it basic but with a few simple to make embelishments from last time using horizontal and vertical lines through our x=0 and y=0 axes with [matplotlib.pyplot.axhline](https://matplotlib.org/3.2.1/api/_as_gen/matplotlib.pyplot.axhline.html) and [matplotlib.pyplot.axvline](https://matplotlib.org/3.2.1/api/_as_gen/matplotlib.pyplot.axvline.html#matplotlib.pyplot.axvline)"
   ]
  },
  {
   "cell_type": "code",
   "execution_count": 18,
   "metadata": {},
   "outputs": [
    {
     "name": "stdout",
     "output_type": "stream",
     "text": [
      "f(x=0) =  4.0\n",
      "f(x=1) =  2.0\n",
      "f(x=2) =  0.8\n"
     ]
    },
    {
     "data": {
      "text/plain": [
       "<matplotlib.lines.Line2D at 0x153921940>"
      ]
     },
     "execution_count": 18,
     "metadata": {},
     "output_type": "execute_result"
    },
    {
     "data": {
      "image/png": "[encoded data removed]",
      "text/plain": [
       "<Figure size 640x480 with 1 Axes>"
      ]
     },
     "metadata": {},
     "output_type": "display_data"
    }
   ],
   "source": [
    "################################################################\n",
    "#\n",
    "# testing our function\n",
    "#\n",
    "\n",
    "print(\"f(x=0) = \", f(0))\n",
    "print(\"f(x=1) = \", f(1))\n",
    "print(\"f(x=2) = \", f(2))\n",
    "\n",
    "#\n",
    "# replotting the function with matplotlib\n",
    "#\n",
    "\n",
    "X = np.arange(-4,4,0.01) \n",
    "\n",
    "plt.plot(X, f(X))          # plot x vs f(x)\n",
    "\n",
    "plt.xlabel(\"x\")            # label your graphs or your\n",
    "plt.ylabel(\"f(x)\") #  TA will yell at you\n",
    "\n",
    "plt.ylim(-1,6)             # you can change your axis limits\n",
    "plt.xlim(-4,4)             #   (it'll take a little trial and error)\n",
    "\n",
    "#\n",
    "# (with those axes set you can toss in a pair of \n",
    "#  reference lines for your true x and y axes)\n",
    "#\n",
    "\n",
    "plt.axhline(        y =   0,     # through the origin\n",
    "            linewidth = 0.5,     # skinny\n",
    "                color = 'black') # \"paint it black\"\n",
    "\n",
    "plt.axvline(        x =   0,     # through the origin\n",
    "            linewidth = 0.5,     # skinny\n",
    "                color = 'black') # \"paint it black\"\n",
    "#\n",
    "################################################################"
   ]
  },
  {
   "cell_type": "markdown",
   "metadata": {},
   "source": [
    "What's that derivative where x = 1? This will be a quantitative, not symbolic, calculation dervived at a given value on the \"number line\" using [scipy.misc.derivative](https://docs.scipy.org/doc/scipy/reference/generated/scipy.misc.derivative.html)"
   ]
  },
  {
   "cell_type": "code",
   "execution_count": 19,
   "metadata": {},
   "outputs": [
    {
     "ename": "AttributeError",
     "evalue": "module 'scipy.misc' has no attribute 'derivative'",
     "output_type": "error",
     "traceback": [
      "\u001b[31m---------------------------------------------------------------------------\u001b[39m",
      "\u001b[31mAttributeError\u001b[39m                            Traceback (most recent call last)",
      "\u001b[36mCell\u001b[39m\u001b[36m \u001b[39m\u001b[32mIn[19]\u001b[39m\u001b[32m, line 6\u001b[39m\n\u001b[32m      1\u001b[39m \u001b[38;5;66;03m################################################################\u001b[39;00m\n\u001b[32m      2\u001b[39m \u001b[38;5;66;03m#\u001b[39;00m\n\u001b[32m      3\u001b[39m \u001b[38;5;66;03m# a simple derivative evaluated at a given value\u001b[39;00m\n\u001b[32m      4\u001b[39m \u001b[38;5;66;03m#\u001b[39;00m\n\u001b[32m----> \u001b[39m\u001b[32m6\u001b[39m dfdx_of_1 = \u001b[43mscimisc\u001b[49m\u001b[43m.\u001b[49m\u001b[43mderivative\u001b[49m(f, \u001b[32m1.0\u001b[39m)\n\u001b[32m      8\u001b[39m \u001b[38;5;28mprint\u001b[39m(\u001b[33m\"\u001b[39m\u001b[33mf\u001b[39m\u001b[33m'\u001b[39m\u001b[33m(1) = \u001b[39m\u001b[33m\"\u001b[39m, dfdx_of_1)\n\u001b[32m     10\u001b[39m \u001b[38;5;66;03m#\u001b[39;00m\n\u001b[32m     11\u001b[39m \u001b[38;5;66;03m################################################################\u001b[39;00m\n",
      "\u001b[31mAttributeError\u001b[39m: module 'scipy.misc' has no attribute 'derivative'"
     ]
    }
   ],
   "source": [
    "################################################################\n",
    "#\n",
    "# a simple derivative evaluated at a given value\n",
    "#\n",
    "\n",
    "dfdx_of_1 = scimisc.derivative(f, 1.0)\n",
    "\n",
    "print(\"f'(1) = \", dfdx_of_1)\n",
    "\n",
    "#\n",
    "################################################################"
   ]
  },
  {
   "cell_type": "markdown",
   "metadata": {},
   "source": [
    "And let's say that our uncertainty of x ($\\Delta x$) is 0.01.  Recalling how error propagates.\n",
    "\n",
    "$$\\Delta f = \\frac{df}{dx}\\Delta x$$ so... "
   ]
  },
  {
   "cell_type": "code",
   "execution_count": null,
   "metadata": {},
   "outputs": [],
   "source": [
    "################################################################\n",
    "#\n",
    "# a simple derivative\n",
    "#\n",
    "\n",
    "uncertainty_of_x      = 0.01 \n",
    "\n",
    "uncertainty_of_f_at_1 = scimisc.derivative(f, 1.0) * uncertainty_of_x\n",
    "uncertainty_of_f_at_0 = scimisc.derivative(f, 0.0) * uncertainty_of_x\n",
    "uncertainty_of_f_at_5 = scimisc.derivative(f, 5.0) * uncertainty_of_x\n",
    "\n",
    "\n",
    "\n",
    "print(\"Δf(1) = \", uncertainty_of_f_at_1 )\n",
    "print(\"Δf(0) = \", uncertainty_of_f_at_0 )\n",
    "print(\"Δf(5) = \", uncertainty_of_f_at_5 )\n",
    "\n",
    "\n",
    "#\n",
    "################################################################"
   ]
  },
  {
   "cell_type": "markdown",
   "metadata": {},
   "source": [
    "### Estimating Integrals\n",
    "\n",
    "We can also get the area under the curve with a set of [integration functions](https://docs.scipy.org/doc/scipy/reference/integrate.html).\n",
    "\n",
    "The most basic function for integrating that has worked well for me is [scipy.integrate.quad](https://docs.scipy.org/doc/scipy/reference/integrate.html) (short for the quadrature method of estimating integrals).  \n",
    "\n",
    "Let's integrate over our test-case function from 0 to 1 which as you recall should be $\\pi$"
   ]
  },
  {
   "cell_type": "code",
   "execution_count": null,
   "metadata": {},
   "outputs": [],
   "source": [
    "################################################################\n",
    "#\n",
    "# a simple integration\n",
    "#\n",
    "\n",
    "integral_of_f_from_0_to_1 = sciint.quad(f, # integrate function f\n",
    "                                        0, #  ... from 0\n",
    "                                        1) #  ... to 1\n",
    "\n",
    "print(\"F(0,1) = \", integral_of_f_from_0_to_1)\n",
    "\n",
    "#\n",
    "# (that trailing value in the result is the absolute error of\n",
    "#  the estimated integral - as you can see this one is effectively\n",
    "#  zero)\n",
    "#\n",
    "\n",
    "print(\"result without error\",integral_of_f_from_0_to_1[0])\n",
    "#\n",
    "################################################################"
   ]
  },
  {
   "cell_type": "markdown",
   "metadata": {},
   "source": [
    "### Roots in SciPy\n",
    "\n",
    "There are a number of [functions](https://docs.scipy.org/doc/scipy/reference/optimize.html) for optimization (finding the \"least bad\" result) and root-finding (finding the perfect \"zero\") in SciPy.  \n",
    "\n",
    "Since our current f(x) doesn't cut through zero let's make a new function with our earlier quadradic example."
   ]
  },
  {
   "cell_type": "code",
   "execution_count": null,
   "metadata": {},
   "outputs": [],
   "source": [
    "################################################################\n",
    "#\n",
    "# let's make another function in python\n",
    "#\n",
    "\n",
    "def g(x) :\n",
    "    return(x**2 - 3*x + 2)\n",
    "\n",
    "#\n",
    "# replotting the function with matplotlib\n",
    "#\n",
    "\n",
    "X = np.arange(-1,4,0.01) \n",
    "\n",
    "plt.plot(X, g(X))          # plot x vs f(x)\n",
    "\n",
    "plt.xlabel(\"x\")            # label your graphs or your\n",
    "plt.ylabel(\"g(x)\") #  TA will yell at you\n",
    "\n",
    "plt.ylim(-1,6)             # you can change your axis limits\n",
    "plt.xlim(-1,4)             #   (it'll take a little trial and error)\n",
    "\n",
    "plt.axhline(        y =   0,     # through the origin\n",
    "            linewidth = 0.5,     # skinny\n",
    "                color = 'black') # \"paint it black\"\n",
    "\n",
    "plt.axvline(        x =   0,     # through the origin\n",
    "            linewidth = 0.5,     # skinny\n",
    "                color = 'black') # \"paint it black\"\n",
    "\n",
    "#\n",
    "################################################################"
   ]
  },
  {
   "cell_type": "markdown",
   "metadata": {},
   "source": [
    "There are a number of root-finding functions (you have to go below the optimization routines on the above link to the area discussing [\"root finding\"](https://docs.scipy.org/doc/scipy/reference/optimize.html#root-finding)).  You will recognize functions for bisection, newton and sectant methods.... For False Position Brent's and Ridder's methods are \"improvements\" to the original classic false position scheme."
   ]
  },
  {
   "cell_type": "code",
   "execution_count": null,
   "metadata": {},
   "outputs": [],
   "source": [
    "################################################################\n",
    "#\n",
    "# Playing with a Newton Raphson Solver.\n",
    "#\n",
    "\n",
    "our_low_root = sciopt.newton(g,-1)\n",
    "\n",
    "print(\"low x = \",our_low_root)\n",
    "\n",
    "# another way to call it.\n",
    "\n",
    "our_high_root = sciopt.newton(g,10)\n",
    "\n",
    "print(\"high x = \",our_high_root)\n",
    "\n",
    "#\n",
    "################################################################"
   ]
  },
  {
   "cell_type": "code",
   "execution_count": null,
   "metadata": {},
   "outputs": [],
   "source": [
    "################################################################\n",
    "#\n",
    "# Playing with a Secant Solver.\n",
    "#\n",
    "\n",
    "our_low_root = sciopt.root_scalar(                 g, # func\n",
    "                                            x0 = 0.0, #  guess\n",
    "                                            x1 = 0.5, # 2nd guess\n",
    "                                     method='secant') # method\n",
    "\n",
    "print(\" low x full results = \",our_low_root)      # all results\n",
    "print()\n",
    "print(\"        low x value = \",our_low_root.root) # just the root\n",
    "\n",
    "print()\n",
    "print()\n",
    "\n",
    "#\n",
    "# Playing with a False Position (Brent's) Solver.\n",
    "#\n",
    "\n",
    "our_high_root = sciopt.root_scalar(               g, # function\n",
    "                                   bracket=[1.5, 4], # this needs a bracket pair\n",
    "                                    method='brenth') # method (based on False-Position)\n",
    "\n",
    "print(\"high x full results = \",our_high_root)      # all results\n",
    "print()\n",
    "print(\"       high x value = \",our_high_root.root) # just the root\n",
    "\n",
    "#\n",
    "################################################################"
   ]
  },
  {
   "cell_type": "markdown",
   "metadata": {},
   "source": [
    "### Linear Algebra\n",
    "Both NumPy and SciPy both have linear algebra funcitons.  [Scipy has some spiffier additions](https://docs.scipy.org/doc/scipy/reference/linalg.html) though so I use that when I do matrix-fu.\n",
    "\n",
    "Let's use our above equations...\n",
    "\n",
    "$$f(x,y) = 2x-y+2$$\n",
    "$$g(x,y) = 2x+y-6$$\n",
    "\n",
    "which creates a matrix system\n",
    "\n",
    "$$\\mathbf{A}=\\begin{bmatrix}\n",
    "2 & -1 \\\\ \n",
    "2 & 1 \n",
    "\\end{bmatrix}  \\vec{b}=\\begin{bmatrix}\n",
    "-2\\\\ \n",
    "6\n",
    "\\end{bmatrix}$$"
   ]
  },
  {
   "cell_type": "code",
   "execution_count": null,
   "metadata": {},
   "outputs": [],
   "source": [
    "################################################################\n",
    "#\n",
    "# Using NumPy to make the array\n",
    "#\n",
    "\n",
    "A = np.array([[ 2, -1],\n",
    "              [ 2,  1]])\n",
    "\n",
    "b = np.array([[-2], \n",
    "              [6]]) \n",
    "\n",
    "# you can also make b like this: np.array([-2,6])\n",
    "#   frequently a 1-d array will be automatically treated\n",
    "#   like a \"vertical\" vector in some languates\n",
    "#\n",
    "################################################################"
   ]
  },
  {
   "cell_type": "markdown",
   "metadata": {},
   "source": [
    "With this we can do some basic Matrix Operations... "
   ]
  },
  {
   "cell_type": "code",
   "execution_count": null,
   "metadata": {},
   "outputs": [],
   "source": [
    "################################################################\n",
    "#\n",
    "# Calculate Determinant and Inverse\n",
    "#\n",
    "\n",
    "det_of_A = scilina.det(A)\n",
    "inv_of_A = scilina.inv(A)\n",
    "\n",
    "print(\"   |A| = \", det_of_A)\n",
    "print(\"inv(A) = \", inv_of_A)\n",
    "\n",
    "#\n",
    "################################################################"
   ]
  },
  {
   "cell_type": "markdown",
   "metadata": {},
   "source": [
    "Finally we have the ability to solve matrix systems without an intermediate matix inverse step."
   ]
  },
  {
   "cell_type": "code",
   "execution_count": null,
   "metadata": {},
   "outputs": [],
   "source": [
    "################################################################\n",
    "#\n",
    "# Calculate Determinant and Inverse\n",
    "#\n",
    "\n",
    "AinvB = scilina.solve(A, b)\n",
    "\n",
    "print(\"   x = \", AinvB)\n",
    "\n",
    "#\n",
    "################################################################"
   ]
  },
  {
   "cell_type": "markdown",
   "metadata": {},
   "source": [
    "## Final Note\n",
    "\n",
    "There are a LOT of other resources available in SciPy. Nobody could (or should) try to dig into them all at one setting.  There are also resources for statistics and specialized physics problems but, I will save the former for another session where we replicate your previous assignments.  "
   ]
  },
  {
   "cell_type": "markdown",
   "metadata": {},
   "source": [
    "# Version Information"
   ]
  },
  {
   "cell_type": "code",
   "execution_count": null,
   "metadata": {},
   "outputs": [],
   "source": [
    "################################################################\n",
    "#\n",
    "# Loading Version Information\n",
    "#\n",
    "\n",
    "%load_ext version_information\n",
    "\n",
    "%version_information version_information, numpy, sympy, scipy, matplotlib\n",
    "\n",
    "#\n",
    "################################################################"
   ]
  }
 ],
 "metadata": {
  "kernelspec": {
   "display_name": "Python 3 (ipykernel)",
   "language": "python",
   "name": "python3"
  },
  "language_info": {
   "codemirror_mode": {
    "name": "ipython",
    "version": 3
   },
   "file_extension": ".py",
   "mimetype": "text/x-python",
   "name": "python",
   "nbconvert_exporter": "python",
   "pygments_lexer": "ipython3",
   "version": "3.12.9"
  }
 },
 "nbformat": 4,
 "nbformat_minor": 4
}
