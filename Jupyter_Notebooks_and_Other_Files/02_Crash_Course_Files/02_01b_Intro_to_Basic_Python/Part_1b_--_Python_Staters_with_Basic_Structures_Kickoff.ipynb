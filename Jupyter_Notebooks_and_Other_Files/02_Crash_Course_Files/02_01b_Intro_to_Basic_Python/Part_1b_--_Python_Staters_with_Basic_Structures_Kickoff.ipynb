{
 "cells": [
  {
   "cell_type": "markdown",
   "metadata": {},
   "source": [
    "![CEE/AES Masthead](https://kyrill.ias.sdsmt.edu/wjc/eduresources/AES_CEE_Masthead.png)\n",
    "\n",
    "# Part 1b -- Python Basic Structures (Complete)\n",
    "\n",
    "## Victory Laps for This Session\n",
    "\n",
    "For this session we will explore\n",
    "\n",
    "*  Simple Output to The Screen\n",
    "*  Elementary Arithmetic\n",
    "*  Data Elements of Basic Python\n",
    "  *  Integers\n",
    "  *  Floating Points\n",
    "  *  Character Strings\n",
    "  *  Lists (Arrays come later)\n",
    "    *  Indexing arrays\n",
    "    *  How indexing in Python is different from other languages\n",
    "*  Loops \n",
    "  *  \"Counting\" through a \"range\"\n",
    "  *  Walking through a list\n",
    "  *  While Loops\n",
    "*  If-Elif-Else Structures (Foreshadowing our next session)\n",
    "\n"
   ]
  },
  {
   "cell_type": "markdown",
   "metadata": {},
   "source": [
    "\n",
    "## Hello World\n",
    "\n",
    "It’s a tradition.  We do it in nearly every language we teach.  Here we will use it to demonstrate how we print stuff to the string with the basic python routine “print”\n",
    "\n",
    "Specifically let's look at the [print](https://docs.python.org/3/library/functions.html#print) function.  Here we are only printing a string.  But also notice as we play below that \n",
    "\n",
    "1.  It doesn't matter (so far) if you use single or double quotes so long as you close with who opened it.\n",
    "2.  You can separate character strings with \n",
    "  1.  a comma (which will slide in an extra breaking space), or \n",
    "  2.  a plus (which directly abutts each string against each other with no padding)  \n",
    "  \n",
    "When we start playing with numbers and printing them, that will change a little."
   ]
  },
  {
   "cell_type": "code",
   "execution_count": 1,
   "metadata": {},
   "outputs": [
    {
     "name": "stdout",
     "output_type": "stream",
     "text": [
      "Hello\n"
     ]
    },
    {
     "data": {
      "text/plain": [
       "'Hello Kitty, Kill! Kill!'"
      ]
     },
     "metadata": {},
     "output_type": "display_data"
    }
   ],
   "source": [
    "#####################################################\n",
    "#\n",
    "# Hello World (Comments in Python start with a #Capital-3)\n",
    "#\n",
    "\n",
    "print( \"Hello\"  )\n",
    "\n",
    "display( \"Hello Kitty, Kill! Kill!\" )\n",
    "\n",
    "#\n",
    "#####################################################"
   ]
  },
  {
   "cell_type": "markdown",
   "metadata": {},
   "source": [
    "## Python Arithmetic\n",
    "\n",
    "This section does not include complex math functions such as trig functions, logs, etc.\n",
    "\n",
    "This is just going to cover the basic things found on most cheap calculators.\n",
    "\n",
    "The basic operators are pretty intuitive if you've worked with Excel or other languages.\n",
    "\n",
    "*  (+) addition\n",
    "*  (-) subtraction\n",
    "*  (*) multiplication\n",
    "*  (/) division\n",
    "*  (%) modulus (aka the remainder from division)\n",
    "*  (**) raising the former to the latter's power.  \n",
    "  *  You probably were expecting a \"capital-6\" (^). The (**) is how it's done in Fortran.\n",
    "  *  If you are a C-programmer and want to use the pow(x,y) function that is also available as a intrinsic (built-in) function.\n",
    "\n",
    "The order of operations are the same as in basic arithmetic.  "
   ]
  },
  {
   "cell_type": "code",
   "execution_count": 2,
   "metadata": {},
   "outputs": [
    {
     "name": "stdout",
     "output_type": "stream",
     "text": [
      "6\n",
      "10\n"
     ]
    },
    {
     "data": {
      "text/plain": [
       "4.333333333333333"
      ]
     },
     "metadata": {},
     "output_type": "display_data"
    },
    {
     "name": "stdout",
     "output_type": "stream",
     "text": [
      "3\n"
     ]
    }
   ],
   "source": [
    "#####################################################\n",
    "#\n",
    "# The Traditional Arithmetic Operators\n",
    "# \n",
    "#    Try these with a + instead of a comma as a\n",
    "#       separator\n",
    "#\n",
    "\n",
    "print( 2+4 )\n",
    "print( 2*5)\n",
    "display(26/6)\n",
    "\n",
    "print( 27 % 6) \n",
    "\n",
    "\n",
    "#\n",
    "#####################################################"
   ]
  },
  {
   "cell_type": "markdown",
   "metadata": {},
   "source": [
    "## A few simple intrinsic functions\n",
    "\n",
    "If you tried to use a + sign to separate the string and calculation above, you got an error.  \n",
    "\n",
    "The (+) sign joins (or \"concatenates\") strings, the comma will join separate data \"types\".  A plus WILL work if you convert the number into a string with the [str()](https://docs.python.org/3/library/stdtypes.html#text-sequence-type-str) function (and notice the change in typesetting when you try it!):"
   ]
  },
  {
   "cell_type": "code",
   "execution_count": 3,
   "metadata": {},
   "outputs": [
    {
     "name": "stdout",
     "output_type": "stream",
     "text": [
      " 2 + 4 =  6\n",
      "I am adding2 + 4 =6\n"
     ]
    }
   ],
   "source": [
    "#####################################################\n",
    "#\n",
    "# Comparing printing ... \n",
    "#\n",
    "#    a number as a number separated with a comma\n",
    "#\n",
    "\n",
    "print( \" 2 + 4 = \", 2+4)\n",
    "\n",
    "\n",
    "#\n",
    "#    and a number as a string with both a comma \n",
    "#       and a  plus\n",
    "#\n",
    "\n",
    "print( \"I am adding\"  + \"2 + 4 =\" + str(2+4)  )\n",
    "\n",
    "\n",
    "#\n",
    "#####################################################"
   ]
  },
  {
   "cell_type": "markdown",
   "metadata": {},
   "source": [
    "There are a few other onboard intrinsic [functions](https://docs.python.org/3/library/functions.html).  But for many of the math functions you may take for granted (unless you've been using Mathcad and remember what happens when you are off the campus license server!), those will be accessed with external libaries which we will cover in subsequent sessions."
   ]
  },
  {
   "cell_type": "markdown",
   "metadata": {},
   "source": [
    "## Data Types\n",
    "\n",
    "As with other languages there are multiple data types with which to work.  Here are a few of them and how to \"active\" them.\n",
    "\n",
    "### Integers\n",
    "\n",
    "These are the easiest.  Just type it in without a decimal.  Integers in Python 3 are 8-bytes long which gives them a dynamic range of (−9,223,372,036,854,775,807 to +9,223,372,036,854,775,807).\n"
   ]
  },
  {
   "cell_type": "code",
   "execution_count": 4,
   "metadata": {},
   "outputs": [],
   "source": [
    "#####################################################\n",
    "#\n",
    "# Integers ... \n",
    "#\n",
    "#   Plain old counting numbers\n",
    "#\n",
    "\n",
    "\n",
    "\n",
    "\n",
    "#\n",
    "#####################################################"
   ]
  },
  {
   "cell_type": "markdown",
   "metadata": {},
   "source": [
    "This last one is rather nice because some languages will return a integer from an operation of two integers no matter what the results are.\n",
    "\n",
    "If you are unclear after beating on a value if it's an integer or note you can query it's status as shown in the example below using the type() function."
   ]
  },
  {
   "cell_type": "code",
   "execution_count": 5,
   "metadata": {},
   "outputs": [],
   "source": [
    "#####################################################\n",
    "#\n",
    "# Am I an integer or floating point?\n",
    "#\n",
    "\n",
    "\n",
    "\n",
    "\n",
    "#\n",
    "#####################################################"
   ]
  },
  {
   "cell_type": "markdown",
   "metadata": {},
   "source": [
    "... and that last one brings us to\n",
    "\n",
    "## Floating Points\n",
    "\n",
    "In Python 3 Floating points are 8-bytes long (what we call \"double precision) should be able to go from an exponent range $10^{-308}$ to  $10^{+308}$  and 15-17 significant figures.\n",
    "\n",
    "Calling one just requires a decimal place or an \"e\" to create a mantisa-exponent pair like you would in excel or any other language.\n",
    "\n",
    "Thus,"
   ]
  },
  {
   "cell_type": "code",
   "execution_count": 6,
   "metadata": {},
   "outputs": [],
   "source": [
    "#####################################################\n",
    "#\n",
    "# Floating Points ... \n",
    "#\n",
    "\n",
    "\n",
    "\n",
    "#\n",
    "#####################################################"
   ]
  },
  {
   "cell_type": "markdown",
   "metadata": {},
   "source": [
    "### \"I will get over this because I am shallow and self-centered...  You, however, are [snort] *complex*.  You will be agonizing over this for months!\"\n",
    "\n",
    "Complex Numbers can be created by calculating them or by initial design.  Note what while we often use *i* for the value of \\sqrt{-1}$ they use the *j* (which is common when working with electrical engineers since Electrical Current is also denoted with the symbol *i*)"
   ]
  },
  {
   "cell_type": "code",
   "execution_count": 7,
   "metadata": {},
   "outputs": [],
   "source": [
    "#####################################################\n",
    "#\n",
    "# Complex numbers... \n",
    "#\n",
    "\n",
    "\n",
    "\n",
    "#\n",
    "#####################################################"
   ]
  },
  {
   "cell_type": "markdown",
   "metadata": {},
   "source": [
    "### Characters and Strings\n",
    "\n",
    "Characters and strings are easy to produce with either a pair of single-quotes or a pair of double-quotes. "
   ]
  },
  {
   "cell_type": "code",
   "execution_count": 8,
   "metadata": {},
   "outputs": [
    {
     "name": "stdout",
     "output_type": "stream",
     "text": [
      "string1 =  32 <class 'str'>\n",
      "string2 =  rhjewakhrarhj <class 'str'>\n",
      "string3 =  it was a darsk and stormy knight <class 'str'>\n",
      "float1 =  2.0 <class 'float'>\n"
     ]
    }
   ],
   "source": [
    "#####################################################\n",
    "#\n",
    "# Strings and Characters\n",
    "#\n",
    "\n",
    "string1 = \"32\"\n",
    "string2 =  \"rhjewakhrarhj\"\n",
    "string3 = \"it was a darsk and stormy knight\"\n",
    "int1 = 6\n",
    "int2 = 3\n",
    "\n",
    "print(\"string1 = \", string1, type(string1))\n",
    "print(\"string2 = \", string2, type(string2))\n",
    "print(\"string3 = \", string3, type(string3))\n",
    "print(\"float1 = \", int1/int2, type((int1/int2)))\n",
    "\n",
    "#\n",
    "#####################################################"
   ]
  },
  {
   "cell_type": "markdown",
   "metadata": {},
   "source": [
    "### Lists, \"Tuples\" and Arrays\n",
    "\n",
    "Arrays and Lists are treated differently.  Arrays will be addressed in a future session on Numerical Python (NumPy). \n",
    "\n",
    "For lists it's easy.  They are 1-D lists (*but not vectors*) with brackets for \"wrapping\" and commas to delimit the members of the list.\n",
    "\n",
    "One interesting thing about lists is that you can list heterogeneous types in them, mixing types (e.g., characters, integers, & floats) in a single list.  (This won't be the case with numerical arrays)"
   ]
  },
  {
   "cell_type": "code",
   "execution_count": 9,
   "metadata": {},
   "outputs": [
    {
     "name": "stdout",
     "output_type": "stream",
     "text": [
      "a =  [1, 6, 2, 8] <class 'list'>\n",
      "b =  ['one', 'two', 'three'] <class 'list'>\n",
      "c =  ['33', 34, 'thirty-five'] <class 'list'>\n",
      "\n",
      "2a =  [1, 6, 2, 8, 1, 6, 2, 8] <class 'list'>\n",
      "2b =  ['one', 'two', 'three', 'one', 'two', 'three'] <class 'list'>\n",
      "a + b =  [1, 6, 2, 8, 'one', 'two', 'three'] <class 'list'>\n"
     ]
    },
    {
     "ename": "TypeError",
     "evalue": "can't multiply sequence by non-int of type 'list'",
     "output_type": "error",
     "traceback": [
      "\u001b[0;31m---------------------------------------------------------------------------\u001b[0m",
      "\u001b[0;31mTypeError\u001b[0m                                 Traceback (most recent call last)",
      "Cell \u001b[0;32mIn[9], line 25\u001b[0m\n\u001b[1;32m     21\u001b[0m \u001b[38;5;28mprint\u001b[39m(\u001b[38;5;124m\"\u001b[39m\u001b[38;5;124m2b = \u001b[39m\u001b[38;5;124m\"\u001b[39m, \u001b[38;5;241m2\u001b[39m\u001b[38;5;241m*\u001b[39mb, \u001b[38;5;28mtype\u001b[39m(\u001b[38;5;241m2\u001b[39m\u001b[38;5;241m*\u001b[39mb))\n\u001b[1;32m     23\u001b[0m \u001b[38;5;28mprint\u001b[39m(\u001b[38;5;124m\"\u001b[39m\u001b[38;5;124ma + b = \u001b[39m\u001b[38;5;124m\"\u001b[39m,a_plus_b, \u001b[38;5;28mtype\u001b[39m(a_plus_b))\n\u001b[0;32m---> 25\u001b[0m \u001b[38;5;28mprint\u001b[39m(\u001b[43ma\u001b[49m\u001b[38;5;241;43m*\u001b[39;49m\u001b[43mb\u001b[49m)\n\u001b[1;32m     27\u001b[0m \u001b[38;5;66;03m#\u001b[39;00m\n\u001b[1;32m     28\u001b[0m \u001b[38;5;66;03m#####################################################\u001b[39;00m\n",
      "\u001b[0;31mTypeError\u001b[0m: can't multiply sequence by non-int of type 'list'"
     ]
    }
   ],
   "source": [
    "#####################################################\n",
    "#\n",
    "# Lists\n",
    "#\n",
    "\n",
    "a = [ 1,6,2,8]\n",
    "b = [\"one\",\"two\",\"three\"]\n",
    "c = [\"33\",34,\"thirty-five\"]\n",
    "\n",
    "#\n",
    "print(\"a = \", a, type(a))\n",
    "print(\"b = \", b, type(b))\n",
    "print(\"c = \", c, type(c))\n",
    "\n",
    "\n",
    "print()\n",
    "\n",
    "a_plus_b = a + b\n",
    "\n",
    "print(\"2a = \", 2*a, type(2*a))\n",
    "print(\"2b = \", 2*b, type(2*b))\n",
    "\n",
    "print(\"a + b = \",a_plus_b, type(a_plus_b))\n",
    "\n",
    "print(a*b)\n",
    "\n",
    "#\n",
    "#####################################################"
   ]
  },
  {
   "cell_type": "markdown",
   "metadata": {},
   "source": [
    "(Whoa!  Did those two do what you expected?  A list is NOT an array or traditional vector or array.  It operates more like a string.  So in both cases (even the 2*a case which surprised me!) \"adding\" lists concatenate (string together) lists rather than peform math on them.  We will be able to do \"math\" on them with numerical python"
   ]
  },
  {
   "cell_type": "markdown",
   "metadata": {},
   "source": [
    "You may also sometimes see a structure that wraps a series of fields in a parenthesis.  \n",
    "\n",
    "These are called \"tuples.\"  In Python a tuple is a list that you can create or declare but while you can change the values in an array or list, you cannot do so in a \"Tuple.\"  While a function may throw me a tuple, I personally prefer not to use them, prefering the more flexible lists and arrays instead."
   ]
  },
  {
   "cell_type": "code",
   "execution_count": null,
   "metadata": {},
   "outputs": [],
   "source": [
    "#####################################################\n",
    "#\n",
    "# Tuple Demonstration \n",
    "#\n",
    "\n",
    "mylist      = [\"A\", \"a\", 1, 2, \"happy\"] # list\n",
    "\n",
    "mytuple    = (\"A\", \"a\", 1, 2, \"happy\") # tuple\n",
    "\n",
    "print(\"MyList \",   mylist)\n",
    "print(\"MyTuple \", mytuple)\n",
    "\n",
    "# Let's try to change an element in each.\n",
    "#  Indexing in Python starts at zero\n",
    "\n",
    "print( mylist[1] )\n",
    "print( mytuple[1] )\n",
    "\n",
    "#\n",
    "mylist[2] = \"one\"\n",
    "mytuple[2] = \"one\"\n",
    "\n",
    "print( mylist )\n",
    "print (mytuple)\n",
    "\n",
    "#\n",
    "#####################################################\n"
   ]
  },
  {
   "cell_type": "markdown",
   "metadata": {},
   "source": [
    "### Indexing Arrays and Lists in Python... This is going to get weird!\n",
    "\n",
    "Indexing in Python starts at zero.  Indicies are wrapped in brackets (not parentheses) So for example getting the above first element in list \"b\" is ..."
   ]
  },
  {
   "cell_type": "code",
   "execution_count": null,
   "metadata": {},
   "outputs": [],
   "source": [
    "#####################################################\n",
    "#\n",
    "\n",
    "print(\"The first element of b (element zero) is = \", b[0])\n",
    "\n",
    "\n",
    "\n",
    "#\n",
    "#####################################################"
   ]
  },
  {
   "cell_type": "code",
   "execution_count": null,
   "metadata": {},
   "outputs": [],
   "source": [
    "#####################################################\n",
    "#\n",
    "\n",
    "print(\"The second element of b (element 1) is = \", b[1])\n",
    "\n",
    "#\n",
    "#####################################################"
   ]
  },
  {
   "cell_type": "markdown",
   "metadata": {},
   "source": [
    "That's straight forward enough.  But what if you want to print a range of elements.  Let's say the first 3 elements (0, 1 & 2). To fetch more than one you can use the : to create the range - this is similar to other languages."
   ]
  },
  {
   "cell_type": "code",
   "execution_count": null,
   "metadata": {},
   "outputs": [],
   "source": [
    "#####################################################\n",
    "#\n",
    "\n",
    "print(\"The first three elements of b SHOULD be... \", b[0:2])\n",
    "\n",
    "print(\"The first three elements of b SHOULD be... \", b[0:2+1])\n",
    "\n",
    "#\n",
    "#####################################################"
   ]
  },
  {
   "cell_type": "markdown",
   "metadata": {},
   "source": [
    "Whoa (again).  This is a quirk of Python that isn't in other languages. \n",
    "\n",
    "The first listed index in a range is \"inclusive\" meaning that the first index you ask for is the first you get!  (As it should be yes?)  \n",
    "\n",
    "BUT... (and there's always a \"but\" isn't there?)\n",
    "\n",
    "The second listed index in a given range is \"EXCLUSIVE.\"  That means that it is one ***PLUS*** the *listed* index.  So if we want to do the above example and do the first three, it must look like the one below."
   ]
  },
  {
   "cell_type": "code",
   "execution_count": null,
   "metadata": {},
   "outputs": [],
   "source": [
    "#####################################################\n",
    "#\n",
    "# exploring inclusive and exclusive indexing\n",
    "#\n",
    "\n",
    "print(\"The first three elements of b are *really*... \", b[0:2+1])\n",
    "print(\"                                           or \", b[0:3])\n",
    "\n",
    "\n",
    "#\n",
    "#####################################################"
   ]
  },
  {
   "cell_type": "markdown",
   "metadata": {},
   "source": [
    "#### And who came up with *that* winning idea?!?\n",
    "\n",
    "I've seen a lot of apologetics for this.  The ~~best~~ lest-unconvincing one to me is to accomodate how we think when we count vs how things indexing at zero work:\n",
    "\n",
    "\"index from 0 for the 3 spaces.\"\n",
    "\n",
    "I'm still not convinced in part because I've spent ~~years~~ decades explicitly saying 0 to N-1.  "
   ]
  },
  {
   "cell_type": "markdown",
   "metadata": {},
   "source": [
    "### Creating Ranges in Python\n",
    "\n",
    "This comes in handy to remember when you work shortly in loops or otherwise have to make a series of numbers to walk through in Python.\n",
    "\n",
    "The function to do this is called \"[range(*start*,*stop+1*,[*delta*])]\"(https://docs.python.org/3/library/functions.html#func-range)\n",
    "\n",
    "if your interval is one then you don't need that last argument.\n",
    "\n",
    "An example of this making a counting list from 1 to 10 is below.  However the data class in which a range is stored is accessed normally only through a loop (which we will need to do next)."
   ]
  },
  {
   "cell_type": "code",
   "execution_count": null,
   "metadata": {},
   "outputs": [],
   "source": [
    "#####################################################\n",
    "#\n",
    "# Range from 1 to 10\n",
    "#\n",
    "\n",
    "x = range(0, 10)\n",
    "\n",
    "print(x)\n",
    "\n",
    "#\n",
    "#####################################################"
   ]
  },
  {
   "cell_type": "markdown",
   "metadata": {},
   "source": [
    "## Loops\n",
    "\n",
    "And that is a good segue into loops.  \n",
    "\n",
    "There two species of loops\n",
    "\n",
    "### Counting Loops (The For Loop)\n",
    "\n",
    "Counting Loops leverage Ranges which as we saw above have that inclusive exclusive pairing.\n",
    "\n",
    "And we just did one... \n",
    "\n",
    "A few things.\n",
    "\n",
    "*  The Loops and If-Elif-Else Blocks start with : at the starter line.  \n",
    "*  You must then indent (Jupyter will do it for you).  \n",
    "*  When done with the indent the \"cue\" that you are out of the structure is simply returning to the previous indent level (or hard against the left margin).  You'll see a nested system shortly."
   ]
  },
  {
   "cell_type": "code",
   "execution_count": null,
   "metadata": {},
   "outputs": [],
   "source": [
    "#####################################################\n",
    "#\n",
    "# Range from 1 to 10\n",
    "#\n",
    "\n",
    "\n",
    "\n",
    "#\n",
    "#####################################################"
   ]
  },
  {
   "cell_type": "markdown",
   "metadata": {},
   "source": [
    "It also works with lists\n",
    "\n",
    "\n",
    "![Classic Mickey Mouse Club](https://kyrill.ias.sdsmt.edu/wjc/eduresources/Mickey_Mouse_Club_S1_Fun_With_Music_Day_Roll_Call.gif)"
   ]
  },
  {
   "cell_type": "code",
   "execution_count": null,
   "metadata": {},
   "outputs": [],
   "source": [
    "#####################################################\n",
    "#\n",
    "# For Looping through a List\n",
    "#\n",
    "#   notice that continuation is just starting a new\n",
    "#      line like you can do in R\n",
    "#\n",
    "\n",
    "mousekateeers = [\"Sharon\",\n",
    "                 \"Bobby\",\n",
    "                 \"Lonnie\",\n",
    "                 \"Tommy\",\n",
    "                 \"Annette\",\n",
    "                 \"Darlene\",\n",
    "                 \"Cubby\",\n",
    "                 \"Karen\",\n",
    "                 \"Doreen\"]\n",
    "                 \n",
    "\n",
    "print(\"Roll Call!\")\n",
    "\n",
    "\n",
    "\n",
    "\n",
    "#\n",
    "#####################################################"
   ]
  },
  {
   "cell_type": "markdown",
   "metadata": {},
   "source": [
    "### Conditional Loops (The While Loop)\n",
    "\n",
    "This one drops out when the condition is satisfied (this is what we used when we programmed Roots in Mathcad)\n",
    "\n",
    "And let's do a revisit to our first foray into programming!\n",
    "\n",
    "![Flowchart from the Presentation from CEE 284 Lecture 2](https://kyrill.ias.sdsmt.edu/wjc/eduresources/Lecture_2_Flowchart.png)"
   ]
  },
  {
   "cell_type": "code",
   "execution_count": null,
   "metadata": {},
   "outputs": [],
   "source": [
    "#####################################################\n",
    "#\n",
    "# While Loop (using our first loop EVER!)\n",
    "#\n",
    "\n",
    "\n",
    "\n",
    "#\n",
    "#####################################################"
   ]
  },
  {
   "cell_type": "code",
   "execution_count": null,
   "metadata": {},
   "outputs": [],
   "source": [
    "#####################################################\n",
    "#\n",
    "# Counting Loop (using our *second* loop EVER!)\n",
    "#\n",
    "\n",
    "\n",
    "\n",
    "#\n",
    "#####################################################"
   ]
  },
  {
   "cell_type": "markdown",
   "metadata": {},
   "source": [
    "\n",
    "\n",
    "## Decision Blocks\n",
    "\n",
    "We often have choices to make when we program... here are the classics that come with Python.  Note that if you are used to using a \"case\" statement that exists in several languages, it's not explicitly included with Python.\n",
    "\n",
    "### A Cascading If-ElseIf-Else Block\n",
    "\n",
    "This one is a redux of the vending machine problem from Lecture 2.  Remember, if you know you have a dime, you don't have to ask again if it's a nickel.\n",
    "\n",
    "![If Else Block](https://kyrill.ias.sdsmt.edu/wjc/eduresources/coin_loop.png)\n",
    "\n",
    "Here Else If is compressed into a single word, \"elif.\""
   ]
  },
  {
   "cell_type": "code",
   "execution_count": null,
   "metadata": {},
   "outputs": [],
   "source": [
    "#####################################################\n",
    "#\n",
    "# If-Elif-Else Block \n",
    "#\n",
    "\n",
    "coin = \"Nickel\"\n",
    "\n",
    "\n",
    "\n",
    "#\n",
    "#####################################################"
   ]
  },
  {
   "cell_type": "markdown",
   "metadata": {},
   "source": [
    "\n",
    "### Single Question If Statements\n",
    "\n",
    "This one is easy...  Remember, you still have to ask the next question(s) after any of these questions.\n",
    "\n",
    "Notice also that we can add multiple conditions.\n",
    "\n",
    "*  To add a condition, use \"&\" or just \"and\"\n",
    "*  To do an either-or, use \"|\" (\"capital backslash\")  or just \"or\"\n",
    "*  To turn a true statement into a false one, use \"not\" (in other languages, it's a \"!\")\n"
   ]
  },
  {
   "cell_type": "code",
   "execution_count": null,
   "metadata": {},
   "outputs": [],
   "source": [
    "#####################################################\n",
    "#\n",
    "# Singular If Statement \n",
    "#\n",
    "#   (also showing multiple conditions)\n",
    "#\n",
    "\n",
    "value = 0.05\n",
    "\n",
    "if (value >= 0) & (value <= 0.10):\n",
    "    print(value, \"is between 0.00 and 0.10\")\n",
    "if (value >= 0.10) & (value <= 0.50):\n",
    "    print(value, \"is between 0.10 and 0.50\")\n",
    "if (value >= 0.00) & (value < 1.00):\n",
    "    print(value, \"is under 1.00\")\n",
    "if (value < 0.50) | (value > 1.00):\n",
    "    print(value, \"is less than 0.50 or more than 1.00\")\n",
    "#\n",
    "#####################################################"
   ]
  },
  {
   "cell_type": "markdown",
   "metadata": {},
   "source": [
    "## Version Information"
   ]
  },
  {
   "cell_type": "code",
   "execution_count": null,
   "metadata": {},
   "outputs": [],
   "source": [
    "################################################################\n",
    "#\n",
    "# Loading Version Information\n",
    "#\n",
    "\n",
    "%load_ext version_information\n",
    "%version_information version_information\n",
    "\n",
    "#\n",
    "################################################################"
   ]
  }
 ],
 "metadata": {
  "kernelspec": {
   "display_name": "Python 3 (ipykernel)",
   "language": "python",
   "name": "python3"
  },
  "language_info": {
   "codemirror_mode": {
    "name": "ipython",
    "version": 3
   },
   "file_extension": ".py",
   "mimetype": "text/x-python",
   "name": "python",
   "nbconvert_exporter": "python",
   "pygments_lexer": "ipython3",
   "version": "3.12.3"
  }
 },
 "nbformat": 4,
 "nbformat_minor": 4
}
