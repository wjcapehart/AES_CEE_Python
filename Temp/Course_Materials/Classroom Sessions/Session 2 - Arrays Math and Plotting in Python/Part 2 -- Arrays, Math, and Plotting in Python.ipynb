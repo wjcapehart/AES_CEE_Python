{
 "cells": [
  {
   "cell_type": "markdown",
   "metadata": {},
   "source": [
    "![CEE Masthead](http://kyrill.ias.sdsmt.edu/wjc/eduresources/CEE_284_Masthead.png)\n",
    "# Part 2 -- Arrays, Math, and Plotting in Python"
   ]
  },
  {
   "cell_type": "markdown",
   "metadata": {},
   "source": [
    "## Objectives\n",
    "\n",
    "Here we will be exploring two external libraries in Python, NumPy (Numerical Python) and Matplotlib (a plotting library that uses a number of conventions common in MATLAB).\n",
    "\n",
    "We will mostly be using these tools to further play with our Pi script, and ending by plotting values of $\\pi$ against the number of iterations (or Reimann sums) used to calculate our values."
   ]
  },
  {
   "cell_type": "markdown",
   "metadata": {},
   "source": [
    "## Libraries in Python\n",
    "\n",
    "Python is widely used and as a consequence it has accrued a large number of support libraries of functions and resources.  Some are *very* highly specialized.  Others are sufficiently generalized to have developed wide use. Some are also integerated into more specir\n",
    "\n",
    "Today we will work with two libaries that are useful in general computation and in looking at those compitations. \n",
    "\n",
    "*  [NumPy](https://numpy.org): a library that includes support for arrays, matrices, and high-level math functions.\n",
    "*  [Matplotlib](https://matplotlib.org): a useful 2-d plotting library.  "
   ]
  },
  {
   "cell_type": "markdown",
   "metadata": {},
   "source": [
    "### Accessing Libraries\n",
    "\n",
    "There are three common ways that people access these libraries.  In my scripts I prefer to put all of my called libraries towards the top of the program.  Other people put them in whenever they need them.\n",
    "\n",
    "#### Loading EVERYTHING in a Library and Putting it on the Same Plate as Everything Else.\n",
    "\n",
    "In this option, you simply make all the contents of a library.  Functions called from these libraries later in the program or script will *not* not be explicitly noticable as being taken from any given external library (which is one reason I avoid this method).  The syntax for this is\n",
    "\n",
    "``` \n",
    "##########################################################\n",
    "###\n",
    "### Call the the library \"myLibrary\"\n",
    "###\n",
    "\n",
    "from myLibrary import *\n",
    "\n",
    "### Execute the Item from myLibrary called myFunction\n",
    "\n",
    "myAnswer = myFunction( myArgument) ) \n",
    "\n",
    "###\n",
    "##########################################################\n",
    "```\n",
    "\n",
    "#### Load a Single Element From a Library and Put it on the Same Plate as Everything Else\n",
    "\n",
    "If you only one one or two items from the library and know you won't ask for more.  You can use this function.\n",
    "\n",
    "```\n",
    "##########################################################\n",
    "###\n",
    "### Call the the library \"myLibrary\" and \n",
    "###    ONLY get the functions myFunction and\n",
    "###    myOtherFunction\n",
    "\n",
    "from myLibrary import myArgument, myOtherArgument\n",
    "\n",
    "### Execute the Item from myLibrary called myFunction\n",
    "\n",
    "myAnswer = myFunction( myArgument) ) \n",
    "\n",
    "myAnswer = myFunction( myOtherArgument) ) \n",
    "\n",
    "###\n",
    "##########################################################\n",
    "```\n",
    "\n",
    "#### Loading a Library and Putting it in it's own Bento Box Compartment.\n",
    "\n",
    "You can also load a library so that all elements of a library can be accessed *and* so that you can see from what library it's being called from.  This one is my prefered method since it makes it clear through the code that the functions or other elements of a library are needing to be brought in from the outside.\n",
    "\n",
    "```\n",
    "##########################################################\n",
    "###\n",
    "### Call the the library \"myLibrary\" to be sourced\n",
    "###   with a reference to the library\n",
    "###\n",
    "\n",
    "import myLibrary\n",
    "\n",
    "### Execute the Item from myLibrary called myFunction\n",
    "\n",
    "myAnswer = myLibrary.myFunction(myArguments)\n",
    "\n",
    "###\n",
    "##########################################################\n",
    "```\n",
    "\n",
    "or you can shorthand the name of the library with an \"alias.\"  I personally like this one best.\n",
    "\n",
    "```\n",
    "##########################################################\n",
    "###\n",
    "### Call the the library \"myLibrary\" to be sourced\n",
    "###   with a reference to the library\n",
    "###\n",
    "\n",
    "import myLibrary as myL\n",
    "\n",
    "### Execute the Item from myLibrary called myFunction\n",
    "\n",
    "myAnswer = myL.myFunction(myArguments)\n",
    "\n",
    "###\n",
    "##########################################################\n",
    "```"
   ]
  },
  {
   "cell_type": "markdown",
   "metadata": {},
   "source": [
    "## Calling the Libraries we'll use today\n",
    "\n",
    "So let's get started and load the libraries we are going to use today.\n",
    "\n",
    "Notice the call to matplotlib (that's our graphing library).  The [pyplot](https://matplotlib.org/3.1.1/tutorials/introductory/pyplot.html) is a sublibrary that emulates some handy Matlab plot functions.  They are very popular in scientific python use and many libraries that do specialized work for a given discipline are built to leverage matplotlib.pyplot."
   ]
  },
  {
   "cell_type": "code",
   "execution_count": 1,
   "metadata": {},
   "outputs": [],
   "source": [
    "##########################################################\n",
    "#\n",
    "# Library Calls.\n",
    "#\n",
    "\n",
    "import numpy             as np\n",
    "\n",
    "import matplotlib.pyplot as plt\n",
    "\n",
    "#\n",
    "##########################################################"
   ]
  },
  {
   "cell_type": "markdown",
   "metadata": {},
   "source": [
    "\n",
    "## Kicking NumPy's Tires\n",
    "\n",
    "\n",
    "Let's start small:\n",
    "\n",
    "To invoke a one of these functionsm we need to use the identifier variable I declared above (i.e., np for NumPy).  For example to calculate atan(1), we would do the following."
   ]
  },
  {
   "cell_type": "code",
   "execution_count": 2,
   "metadata": {},
   "outputs": [
    {
     "name": "stdout",
     "output_type": "stream",
     "text": [
      "arc-tangent of one =  0.7853981633974483\n"
     ]
    }
   ],
   "source": [
    "#############################################\n",
    "#\n",
    "# Calling a math function with NumPy...\n",
    "#\n",
    "\n",
    "print(\"arc-tangent of one = \", np.arctan(1.0))\n",
    "\n",
    "#\n",
    "#############################################"
   ]
  },
  {
   "cell_type": "markdown",
   "metadata": {},
   "source": [
    "(which, if you remember is a quarter of $\\pi$)\n",
    "\n",
    "Notice that we invoke the library and then the function.  Here the function is [numpy.arctan](https://numpy.org/devdocs/reference/generated/numpy.arctan.html#numpy.arctan).  (For more \"traditional\" math functions you can look [here](https://numpy.org/devdocs/reference/ufuncs.html#available-ufuncs))."
   ]
  },
  {
   "cell_type": "code",
   "execution_count": 3,
   "metadata": {},
   "outputs": [
    {
     "name": "stdout",
     "output_type": "stream",
     "text": [
      "calculated pi =  3.141592653589793\n"
     ]
    }
   ],
   "source": [
    "#############################################\n",
    "#\n",
    "# Making PI with NumPy\n",
    "#\n",
    "\n",
    "print(\"calculated pi = \", 4*np.arctan(1.0))\n",
    "\n",
    "#\n",
    "#############################################"
   ]
  },
  {
   "cell_type": "markdown",
   "metadata": {},
   "source": [
    "(and while we're here -- and we're kind of throwing the game given what we're trying to demonstrate here -- we also have some [basic math constants](https://docs.scipy.org/doc/numpy/reference/constants.html) that are available to us)"
   ]
  },
  {
   "cell_type": "code",
   "execution_count": 4,
   "metadata": {},
   "outputs": [
    {
     "name": "stdout",
     "output_type": "stream",
     "text": [
      "explicitly declared pi =  3.141592653589793\n",
      " explicitly declared e =  2.718281828459045\n"
     ]
    }
   ],
   "source": [
    "#############################################\n",
    "#\n",
    "# Calling PI and \"e\" as constants with NumPy\n",
    "#\n",
    "\n",
    "print(\"explicitly declared pi = \", np.pi) # pi\n",
    "\n",
    "print(\" explicitly declared e = \", np.e)  # e \n",
    "\n",
    "#\n",
    "#############################################"
   ]
  },
  {
   "cell_type": "markdown",
   "metadata": {},
   "source": [
    "Here is a handy link to the NumPy intrinsic functions for more useful functions.  (You won't have time to use all of them in your lifetime... but some of 'em you'll will use almost everytime you crunch heavy numbers in Python.)\n",
    "\n",
    "[https://numpy.org/devdocs/reference/index.html](https://numpy.org/devdocs/reference/index.html)"
   ]
  },
  {
   "cell_type": "markdown",
   "metadata": {},
   "source": [
    "## Arrays in Python using NumPy\n",
    "\n",
    "But here with NumPy, what we want to do is create an \"empty\" or \"zero'ed\" 1-d array (or \"vector\") to contain our answers to PI as calcualted using various integrals of our above case example.\n",
    "\n",
    "This example below uses a function called [numpy.zeros](https://docs.scipy.org/doc/numpy/reference/generated/numpy.zeros.html).  Other functions that can be used to make numpy arrays can be found [here](https://docs.scipy.org/doc/numpy/reference/routines.array-creation.html).  \n",
    "\n",
    "For example let's make an empty array of 20 elements and populating them with zeros."
   ]
  },
  {
   "cell_type": "code",
   "execution_count": 5,
   "metadata": {},
   "outputs": [
    {
     "name": "stdout",
     "output_type": "stream",
     "text": [
      "array_of_20_zeros = [0. 0. 0. 0. 0. 0. 0. 0. 0. 0. 0. 0. 0. 0. 0. 0. 0. 0. 0. 0.]\n"
     ]
    }
   ],
   "source": [
    "#############################################\n",
    "#\n",
    "# Create an vector 20-cells long and put zeros \n",
    "#   in all the slots\n",
    "#\n",
    "\n",
    "array_of_20_zeros = np.zeros(20) \n",
    "\n",
    "print(\"array_of_20_zeros =\", array_of_20_zeros)\n",
    "\n",
    "#\n",
    "#############################################"
   ]
  },
  {
   "cell_type": "markdown",
   "metadata": {},
   "source": [
    "We also can create an array that goes from one value to another in equal intervals with [numpy.arange]() (that's one R, \"***a***rray ***range***\" or if you'd rather, \"***a*** ***range***\")\n",
    "\n",
    "(And while we're here, we index arrays in Python starting with 0.)\n",
    "\n",
    "Also as before the example below creates an array from 1 to 20 (not 21)."
   ]
  },
  {
   "cell_type": "code",
   "execution_count": 6,
   "metadata": {},
   "outputs": [
    {
     "name": "stdout",
     "output_type": "stream",
     "text": [
      "array_from_1_to_21 =  [ 1  2  3  4  5  6  7  8  9 10 11 12 13 14 15 16 17 18 19 20]\n",
      "array_from_1_to_21[1] =  2\n",
      "array_from_1_to_21[0] =  1\n"
     ]
    }
   ],
   "source": [
    "############################################\n",
    "#\n",
    "# Create an vector 20-cells long and put a \n",
    "#    consecutive range of intergers in them\n",
    "#\n",
    "\n",
    "array_from_1_to_21 = np.arange(1, 21, 1) # the range works the \n",
    "\n",
    "print(\"array_from_1_to_21 = \",array_from_1_to_21)\n",
    "\n",
    "# also now that we are working with indexes in arrays\n",
    "#   as we earned with Mathcad, we might want to see \n",
    "#   if indexing starts at 0 or 1.\n",
    "\n",
    "# Spoilers: it's zero!\n",
    "\n",
    "print(\"array_from_1_to_21[1] = \",array_from_1_to_21[1]) \n",
    "\n",
    "print(\"array_from_1_to_21[0] = \",array_from_1_to_21[0])\n",
    "\n",
    "#\n",
    "#############################################"
   ]
  },
  {
   "cell_type": "markdown",
   "metadata": {},
   "source": [
    "## INTERMISSION!  A Deep-Dive on Arrays in Python\n",
    "\n",
    "Continuing from last time, remember how when python loops from 0 to N it's really looping from 0 to N-1?\n",
    "\n",
    "When migrating from older languages like Fortran or C, you may be used to what is, apparently, called inclusive indexing... because for some reason there wouldn't be a need to give a such a thing specific adjective when you'd think that it wouldn't be so bloody obvious and intuitive to do it any other way.\n",
    "\n",
    "But Oh No.........\n",
    "\n",
    "Python, along with a couple other supernew languages, do something different...\n",
    "\n",
    "Let's first borrow from a commonly used language like MATLAB, or R. (let's assume that we start our indexing with 0 like Python does).\n",
    "\n",
    "```\n",
    "strawman := (/ 1, 2, 3, 4, 5 /)\n",
    "```\n",
    "\n",
    "Let's ask for the last two values...  Normally we woud intuit that it'd be ...\n",
    "\n",
    "\n",
    "```\n",
    "print( strawman(3:4) ) \n",
    "\n",
    "(/ 4, 5 /)\n",
    "```\n",
    "\n",
    "Now let's do the same thing in Python.\n",
    "\n",
    "This time, we'll use the [numpy.array](https://numpy.org/devdocs/reference/generated/numpy.array.html) function."
   ]
  },
  {
   "cell_type": "code",
   "execution_count": 7,
   "metadata": {},
   "outputs": [
    {
     "name": "stdout",
     "output_type": "stream",
     "text": [
      "strawman[] = [0 1 2 3 4]\n",
      "strawman[3:4] = [3]\n"
     ]
    }
   ],
   "source": [
    "#############################################\n",
    "#\n",
    "# let's make a no-nonsense array\n",
    "#\n",
    "\n",
    "strawman = np.array([ 0, 1, 2, 3, 4])\n",
    "\n",
    "print('strawman[] =', strawman)\n",
    "\n",
    "#\n",
    "# and let's pull what we think should be the last two?\n",
    "#\n",
    "\n",
    "print('strawman[3:4] =', strawman[3:4])\n",
    "\n",
    "#\n",
    "#############################################"
   ]
  },
  {
   "cell_type": "markdown",
   "metadata": {},
   "source": [
    "Whaaaa?\n",
    "\n",
    "OK here is what is happening when \"slicing,\" as it's called, an array in Python. Python does something that may be seen to be counterintuitve.\n",
    "\n",
    "the first index that is requested list or array subset is inclusive\n",
    "\n",
    "that means that what you ask for is what you get. You ask for the 0 index, or in this case index #4 when starting at zero, you ask for \"3\" get that one.\n",
    "\n",
    "But..\n",
    "\n",
    "the closing index that is requested from a list or array subset is exclsuive\n",
    "so when you ask for the subset ending at #5 from zero.. it gives you... #4 from zero.\n",
    "so if you want number #5 from zero instead of typing \"4\", you type the next one... \"5\"."
   ]
  },
  {
   "cell_type": "code",
   "execution_count": 8,
   "metadata": {},
   "outputs": [
    {
     "name": "stdout",
     "output_type": "stream",
     "text": [
      "strawman[3:4+1] = [3 4]\n",
      "strawman[3:5] = [3 4]\n"
     ]
    }
   ],
   "source": [
    "#############################################\n",
    "#\n",
    "# let's make a no-nonsense array\n",
    "#\n",
    "\n",
    "#\n",
    "# so if you use the way we normally think about it...\n",
    "#\n",
    "\n",
    "print('strawman[3:4+1] =', strawman[3:4+1])\n",
    "\n",
    "# or\n",
    "\n",
    "print('strawman[3:5] =', strawman[3:5])\n",
    "\n",
    "#\n",
    "#############################################"
   ]
  },
  {
   "cell_type": "markdown",
   "metadata": {},
   "source": [
    "If you want to go from a array value 4 to the end of the array you *could* do this.  This is similar to NCL...  but as shown here if you look closer there is a lack of consistancy of you forget that the first value *requested* is \"inclusive\", the second *requested* is exclusive."
   ]
  },
  {
   "cell_type": "code",
   "execution_count": 9,
   "metadata": {},
   "outputs": [
    {
     "name": "stdout",
     "output_type": "stream",
     "text": [
      "strawman =  [0 1 2 3 4]\n",
      "\n",
      "strawman[  3: ] = [3 4]\n",
      "strawman[  3  ] = 3\n",
      "strawman[  4  ] = 4\n",
      "strawman[  -2 ] = 3\n",
      "strawman[  -1 ] = 4\n",
      "strawman[-2:-1] = [3]\n",
      "strawman[-2:  ] = [3 4]\n",
      "strawman[  :3 ] = [0 1 2]\n"
     ]
    }
   ],
   "source": [
    "#############################################\n",
    "#\n",
    "# Playing with Indices \n",
    "#\n",
    "\n",
    "#\n",
    "# so if you use the way we normally think about it...\n",
    "#\n",
    "\n",
    "print('strawman = ', strawman)\n",
    "\n",
    "print()\n",
    "\n",
    "print('strawman[  3: ] =',  strawman[ 3:  ]) # second to last their way\n",
    "print('strawman[  3  ] =',  strawman[   3 ]) # second to last alone\n",
    "print('strawman[  4  ] =',  strawman[   4 ]) # last alone (first request is inclusive)\n",
    "print('strawman[  -2 ] =',  strawman[  -2 ]) # second from last\n",
    "print('strawman[  -1 ] =',  strawman[ -1  ]) # first from last first request is inclusive\n",
    "print('strawman[-2:-1] =',  strawman[-2:-1]) # the last value is exclusive\n",
    "print('strawman[-2:  ] =',  strawman[-2:  ]) # how they want you to pull the last 2.\n",
    "print('strawman[  :3 ] =',  strawman[  :3 ]) # this pulls the first three index (0-to-2).\n",
    "\n",
    "\n",
    "\n",
    "#\n",
    "#############################################"
   ]
  },
  {
   "cell_type": "markdown",
   "metadata": {},
   "source": [
    "When you [JFGI](http://lmgtfy.com/?q=why+is+the+mother-flipping+python+indexing+inclusive+for+the+first+index+then+exclusive+for+the+second) what why this is the case you get an argument from \"elegance.\"  \n",
    "\n",
    "Whatever... but still. I prefer the following addage... \n",
    "\n",
    "\"elegance is skin deep... but intuitive functionality is to the bone\""
   ]
  },
  {
   "cell_type": "markdown",
   "metadata": {},
   "source": [
    "## Back to the Exercise:  Using our Arrays in our Pi Program!\n",
    "\n",
    "We are going to use arrays in NumPy to create a lasting record of how the calculation of $\\pi$ changes as we make tinier and tinier little boxes in our Reimann sums.  Later we will graph these results.\n",
    "\n",
    "Now let's visit our earlier script. (You can also fetch it from any previous playtime.)\n",
    "\n",
    "From last time, let's recall:\n",
    "\n",
    "\n",
    "$$\\pi =\\frac{1}{N}\\sum^{N}_{i=1}\\frac{4}{1+x^2}$$\n",
    "\n",
    "And the pseudocode.  \n",
    "\n",
    "Just enter the block below by declaring a variable n.\n",
    "\n",
    "```\n",
    "Input the value “n” \n",
    "if n < 1 then\n",
    "{\n",
    "   print an error statement\n",
    "}\n",
    "else \n",
    "{\n",
    "   h = 1 / n\n",
    "   sum  = 0\n",
    "   repeat i from 1 to n by 1\n",
    "   {\n",
    "      x = h * (i - 0.5)\n",
    "      sum = sum + 4 / (1 + x*x)\n",
    "   }\n",
    "   pi = h * sum\n",
    "   return, pi\n",
    "}\n",
    "```"
   ]
  },
  {
   "cell_type": "code",
   "execution_count": 10,
   "metadata": {},
   "outputs": [
    {
     "name": "stdout",
     "output_type": "stream",
     "text": [
      "N= 2 ; estimated pi= 3.1623529411764704\n",
      "\n",
      "error from real pi =  0.02076028758667725\n"
     ]
    }
   ],
   "source": [
    "#############################################\n",
    "#\n",
    "# The basic Pi Script as written in Python\n",
    "#\n",
    "\n",
    "N = 2\n",
    "\n",
    "h  = 1.0 / N\n",
    "pi = 0.0\n",
    "\n",
    "for n in range(1, N+1, 1):  \n",
    "    x  = h * (n - 0.5)\n",
    "    pi = pi + 4.0 * h / (1.0 + x**2) \n",
    "\n",
    "\n",
    "print(\"N=\", N,\"; estimated pi=\", pi)\n",
    "\n",
    "print()\n",
    "\n",
    "print(\"error from real pi = \", pi-np.pi)\n",
    "\n",
    "#\n",
    "#############################################"
   ]
  },
  {
   "cell_type": "markdown",
   "metadata": {},
   "source": [
    "### Now let's wrap a new loop around our earlier script.\n",
    "\n",
    "Here is what we will do next. Unlike in other languages where a number is only a number, or vector is only a vector, or an array is only an array. Here, with a numpy-generated array, these items are *objects* of a \"class\" called [numpy.ndarray](https://docs.scipy.org/doc/numpy/reference/arrays.ndarray.html#arrays-ndarray) (an \"n-D array\") which have no only numbers but also attrubutes. these slots in memory also have [attributes](https://docs.scipy.org/doc/numpy/reference/arrays.ndarray.html#array-attributes) that you can access.  These include the dimensionality or size and shape of an array.\n",
    "\n",
    "Let's make an pair of array vectors of 20 elements... (just like earlier)\n",
    "\n",
    "One will just have zeros, the other will count from 1 to 20.\n",
    "\n",
    "Also check out the trick where we can query the [ndarray.size](https://docs.scipy.org/doc/numpy/reference/generated/numpy.ndarray.size.html) for any array produced in NumPy.  Here the \"ndarray\" is the variable."
   ]
  },
  {
   "cell_type": "code",
   "execution_count": 11,
   "metadata": {},
   "outputs": [
    {
     "name": "stdout",
     "output_type": "stream",
     "text": [
      "pi_of_N = [0. 0. 0. 0. 0. 0. 0. 0. 0. 0. 0. 0. 0. 0. 0. 0. 0. 0. 0. 0.]\n",
      "N_array = [ 1  2  3  4  5  6  7  8  9 10 11 12 13 14 15 16 17 18 19 20]\n"
     ]
    }
   ],
   "source": [
    "#############################################\n",
    "#\n",
    "# Create an vector 20-cells long and put zeros \n",
    "#   in all the slots\n",
    "#   \n",
    "#   We'll put our Pi's this one.\n",
    "#\n",
    "\n",
    "pi_of_N = np.zeros(20) \n",
    "\n",
    "print(\"pi_of_N =\", pi_of_N)\n",
    "\n",
    "#\n",
    "#  Make a counting array for our N's\n",
    "#\n",
    "#    Still have to use that dang +1 at the end.\n",
    "#\n",
    "\n",
    "N_array = np.arange(1, pi_of_N.size+1)\n",
    "\n",
    "print(\"N_array =\", N_array)\n",
    "\n",
    "\n",
    "#\n",
    "#############################################"
   ]
  },
  {
   "cell_type": "markdown",
   "metadata": {},
   "source": [
    "Now let's take our earlier script and wrap a loop around it to count through N."
   ]
  },
  {
   "cell_type": "code",
   "execution_count": 12,
   "metadata": {},
   "outputs": [
    {
     "name": "stdout",
     "output_type": "stream",
     "text": [
      "N=  1 ; Estimated PI= 3.2\n",
      "N=  2 ; Estimated PI= 3.1623529411764704\n",
      "N=  3 ; Estimated PI= 3.150849209865603\n",
      "N=  4 ; Estimated PI= 3.1468005183939427\n",
      "N=  5 ; Estimated PI= 3.144925864003328\n",
      "N=  6 ; Estimated PI= 3.143907427222438\n",
      "N=  7 ; Estimated PI= 3.143293317527468\n",
      "N=  8 ; Estimated PI= 3.142894729591689\n",
      "N=  9 ; Estimated PI= 3.1426214565576127\n",
      "N=  10 ; Estimated PI= 3.142425985001098\n",
      "N=  11 ; Estimated PI= 3.1422813577390007\n",
      "N=  12 ; Estimated PI= 3.1421713566497966\n",
      "N=  13 ; Estimated PI= 3.142085749838525\n",
      "N=  14 ; Estimated PI= 3.1420178234025458\n",
      "N=  15 ; Estimated PI= 3.141963023791419\n",
      "N=  16 ; Estimated PI= 3.14191817430856\n",
      "N=  17 ; Estimated PI= 3.141881004144533\n",
      "N=  18 ; Estimated PI= 3.141849855179371\n",
      "N=  19 ; Estimated PI= 3.1418234938074776\n",
      "N=  20 ; Estimated PI= 3.141800986893093\n"
     ]
    }
   ],
   "source": [
    "#############################################\n",
    "#\n",
    "# Looping through different iterations of Pi\n",
    "#   OK now this MIGHT be an argument for\n",
    "#   Exclusive Arrays but I'm still not \n",
    "#   convinced.\n",
    "#\n",
    "#OKBoomer\n",
    "#\n",
    "#GetOuttaMyYardNosepicker\n",
    "\n",
    "for N in range(0, pi_of_N.size, 1): \n",
    "\n",
    "    h  = 1.0 / N_array[N]\n",
    "    pi_of_N[N] = 0.0\n",
    "\n",
    "    for n in range(1, N_array[N]+1, 1):  \n",
    "        x  = h * (n - 0.5)\n",
    "        pi_of_N[N] = pi_of_N[N] + 4.0 * h / (1.0 + x**2) \n",
    "    print(\"N= \", N_array[N],\"; Estimated PI=\", pi_of_N[N])\n",
    "        \n",
    "\n",
    "#\n",
    "#############################################"
   ]
  },
  {
   "cell_type": "markdown",
   "metadata": {},
   "source": [
    "And we can calculate an error of Pi since we can leverage our NumPy true[r] value of pi."
   ]
  },
  {
   "cell_type": "code",
   "execution_count": 13,
   "metadata": {},
   "outputs": [
    {
     "name": "stdout",
     "output_type": "stream",
     "text": [
      "Error of Pi : [0.05840735 0.02076029 0.00925656 0.00520786 0.00333321 0.00231477\n",
      " 0.00170066 0.00130208 0.0010288  0.00083333 0.0006887  0.0005787\n",
      " 0.0004931  0.00042517 0.00037037 0.00032552 0.00028835 0.0002572\n",
      " 0.00023084 0.00020833]\n"
     ]
    }
   ],
   "source": [
    "#############################################\n",
    "#\n",
    "# Calculate Error of Pi\n",
    "#\n",
    "\n",
    "Error_of_Estimated_Pi = pi_of_N - np.pi\n",
    "        \n",
    "print(\"Error of Pi :\", Error_of_Estimated_Pi)\n",
    "    \n",
    "#\n",
    "#############################################"
   ]
  },
  {
   "cell_type": "markdown",
   "metadata": {},
   "source": [
    "## Plotting with Matplotlib.\n",
    "\n",
    "Ok now let's plot.  \n",
    "\n",
    "If you've worked with MATLAB before, some of this is going to be eerily familiar.  The syntax here will be very similar to MATLAB right down to customizing the symbols on a series.\n",
    "\n",
    "If you haven't worked with MATLAB, we will do a simple demo of an x-y plot here in short increments.\n",
    "\n",
    "### The plot Command\n",
    "\n",
    "Simple x-y plots have one or two array arguments.  \n",
    "\n",
    "If it's just one argument, it plots the data along the y axis and the x-axis is just the number of the observation.\n",
    "\n",
    "If it's two arguments, then it's plotting a traditional x-y plot.\n",
    "\n",
    "Beyond that there are a suite of modifiers to manage the color, symbol, linestyle, etc.  \n",
    "\n",
    "Unless you use it daily, you're probably not going to have instant recall of most of them.  \n",
    "\n",
    "No problem:  The manual page for [matlibplot.pyplot.plot()](https://matplotlib.org/3.1.1/api/_as_gen/matplotlib.pyplot.plot.html) has details.\n",
    "\n",
    "Let's start by ploting a very simple plot of our above case., starting with the defaults, then getting progressively fancier by gradually adding [\"bell-and-whistle\" functions that can be found here](https://matplotlib.org/3.1.1/api/_as_gen/matplotlib.pyplot.html#module-matplotlib.pyplot)."
   ]
  },
  {
   "cell_type": "code",
   "execution_count": 14,
   "metadata": {},
   "outputs": [
    {
     "data": {
      "text/plain": [
       "[<matplotlib.lines.Line2D at 0x1197f5390>]"
      ]
     },
     "execution_count": 14,
     "metadata": {},
     "output_type": "execute_result"
    },
    {
     "data": {
      "image/png": "[encoded data removed]",
      "text/plain": [
       "<Figure size 432x288 with 1 Axes>"
      ]
     },
     "metadata": {
      "needs_background": "light"
     },
     "output_type": "display_data"
    }
   ],
   "source": [
    "#############################################\n",
    "#\n",
    "# Default X-Y plot\n",
    "#\n",
    "\n",
    "plt.plot(N_array,\n",
    "         pi_of_N)       \n",
    "\n",
    "#\n",
    "#############################################"
   ]
  },
  {
   "cell_type": "markdown",
   "metadata": {},
   "source": [
    "Now let's make it fancier. And explore the different customization options.  Since matplotlib library borrows syntax from MATLAB it may be a good idea to ahve a cheatsheet available.  The one shown here is my favorite and it comes from the MATLAB primer. \n",
    "![MATLAB_Lineplot_CheatSheet.png](http://kyrill.ias.sdsmt.edu/wjc/eduresources/CEE284_Python/Course_Materials/Classroom%20Sessions/Session%202%20-%20Arrays%20Math%20and%20Plotting%20in%20Python/MATLAB_Lineplot_CheatSheet.png).  Also if you scroll down to the bottom of the [matplotlib.pyplot.plot](https://matplotlib.org/3.1.1/api/_as_gen/matplotlib.pyplot.plot.html#matplotlib.pyplot.plot) page where the \"Notes\" for the page are. "
   ]
  },
  {
   "cell_type": "code",
   "execution_count": 15,
   "metadata": {},
   "outputs": [
    {
     "data": {
      "text/plain": [
       "[<matplotlib.lines.Line2D at 0x119856f90>]"
      ]
     },
     "execution_count": 15,
     "metadata": {},
     "output_type": "execute_result"
    },
    {
     "data": {
      "image/png": "[encoded data removed]",
      "text/plain": [
       "<Figure size 432x288 with 1 Axes>"
      ]
     },
     "metadata": {
      "needs_background": "light"
     },
     "output_type": "display_data"
    }
   ],
   "source": [
    "#############################################\n",
    "#\n",
    "#  X-Y plot ...\n",
    "#    with an red line\n",
    "#\n",
    "#     the \"r\" is changing the color of the line.\n",
    "#     the online documentation gives you a set\n",
    "#     of customizations that are available to you.\n",
    "#\n",
    "\n",
    "plt.plot(N_array,\n",
    "         pi_of_N,\n",
    "        'r')       \n",
    "\n",
    "#\n",
    "#############################################"
   ]
  },
  {
   "cell_type": "code",
   "execution_count": 16,
   "metadata": {},
   "outputs": [
    {
     "data": {
      "text/plain": [
       "[<matplotlib.lines.Line2D at 0x1199f5f50>]"
      ]
     },
     "execution_count": 16,
     "metadata": {},
     "output_type": "execute_result"
    },
    {
     "data": {
      "image/png": "[encoded data removed]",
      "text/plain": [
       "<Figure size 432x288 with 1 Axes>"
      ]
     },
     "metadata": {
      "needs_background": "light"
     },
     "output_type": "display_data"
    }
   ],
   "source": [
    "#############################################\n",
    "#\n",
    "#  X-Y plot...\n",
    "#    with a blue dot-symbol for each point. \n",
    "#\n",
    "\n",
    "plt.plot(N_array,\n",
    "         pi_of_N,\n",
    "        '.b')       \n",
    "\n",
    "#\n",
    "#############################################"
   ]
  },
  {
   "cell_type": "code",
   "execution_count": 17,
   "metadata": {},
   "outputs": [
    {
     "data": {
      "text/plain": [
       "[<matplotlib.lines.Line2D at 0x119b05e10>]"
      ]
     },
     "execution_count": 17,
     "metadata": {},
     "output_type": "execute_result"
    },
    {
     "data": {
      "image/png": "[encoded data removed]",
      "text/plain": [
       "<Figure size 432x288 with 1 Axes>"
      ]
     },
     "metadata": {
      "needs_background": "light"
     },
     "output_type": "display_data"
    }
   ],
   "source": [
    "#############################################\n",
    "#\n",
    "#  X-Y plot...\n",
    "#    with a black o-symbol for each point. \n",
    "#    and a solid line.\n",
    "#\n",
    "\n",
    "plt.plot(N_array,\n",
    "         pi_of_N,\n",
    "        'ok-')       \n",
    "\n",
    "#\n",
    "#############################################"
   ]
  },
  {
   "cell_type": "code",
   "execution_count": 18,
   "metadata": {},
   "outputs": [
    {
     "data": {
      "text/plain": [
       "[<matplotlib.lines.Line2D at 0x119bec390>]"
      ]
     },
     "execution_count": 18,
     "metadata": {},
     "output_type": "execute_result"
    },
    {
     "data": {
      "image/png": "[encoded data removed]",
      "text/plain": [
       "<Figure size 432x288 with 1 Axes>"
      ]
     },
     "metadata": {
      "needs_background": "light"
     },
     "output_type": "display_data"
    }
   ],
   "source": [
    "#############################################\n",
    "#\n",
    "#  X-Y plot...\n",
    "#    with a green dashed line.\n",
    "#\n",
    "\n",
    "plt.plot(N_array,\n",
    "         pi_of_N,\n",
    "        'g--')       \n",
    "\n",
    "#\n",
    "#############################################"
   ]
  },
  {
   "cell_type": "code",
   "execution_count": 19,
   "metadata": {},
   "outputs": [
    {
     "data": {
      "text/plain": [
       "[<matplotlib.lines.Line2D at 0x119d347d0>]"
      ]
     },
     "execution_count": 19,
     "metadata": {},
     "output_type": "execute_result"
    },
    {
     "data": {
      "image/png": "[encoded data removed]",
      "text/plain": [
       "<Figure size 432x288 with 1 Axes>"
      ]
     },
     "metadata": {
      "needs_background": "light"
     },
     "output_type": "display_data"
    }
   ],
   "source": [
    "#############################################\n",
    "#\n",
    "#  X-Y plot...\n",
    "#    with a magenta plus-symbol for each point. \n",
    "#    and a dotted line line.\n",
    "#\n",
    "\n",
    "plt.plot(N_array,\n",
    "         pi_of_N,\n",
    "        '+m:')       \n",
    "\n",
    "#\n",
    "#############################################"
   ]
  },
  {
   "cell_type": "markdown",
   "metadata": {},
   "source": [
    "Experiment with different options (It's your graph. Own it,)"
   ]
  },
  {
   "cell_type": "markdown",
   "metadata": {},
   "source": [
    "Need to change axes?\n",
    "\n",
    "Log-ing axes is done with specific formulas that use the same customization options as the simple linear plots.\n",
    "\n",
    "* [matplotlib.pyplot.semilogx](https://matplotlib.org/3.1.1/api/_as_gen/matplotlib.pyplot.semilogx.html#matplotlib.pyplot.semilogx) - log-x linear-y\n",
    "* [matplotlib.pyplot.semilogy](https://matplotlib.org/3.1.1/api/_as_gen/matplotlib.pyplot.semilogy.html#matplotlib.pyplot.semilogy) - linear-x log-y\n",
    "* [matplotlib.pyplot.loglog](https://matplotlib.org/3.1.1/api/_as_gen/matplotlib.pyplot.loglog.html#matplotlib.pyplot.loglog) - both axes log-ed"
   ]
  },
  {
   "cell_type": "code",
   "execution_count": 20,
   "metadata": {},
   "outputs": [
    {
     "data": {
      "text/plain": [
       "[<matplotlib.lines.Line2D at 0x119e0fdd0>]"
      ]
     },
     "execution_count": 20,
     "metadata": {},
     "output_type": "execute_result"
    },
    {
     "data": {
      "image/png": "[encoded data removed]",
      "text/plain": [
       "<Figure size 432x288 with 1 Axes>"
      ]
     },
     "metadata": {
      "needs_background": "light"
     },
     "output_type": "display_data"
    }
   ],
   "source": [
    "#############################################\n",
    "#\n",
    "#  log-X-Y plot...\n",
    "#    with a blue plus-symbol for each point. \n",
    "#    and a dotted line line.\n",
    "#\n",
    "\n",
    "plt.semilogx(N_array,\n",
    "             pi_of_N,\n",
    "             'or:')       \n",
    "\n",
    "#\n",
    "#############################################"
   ]
  },
  {
   "cell_type": "markdown",
   "metadata": {},
   "source": [
    "Need more than one parameter plotted?  "
   ]
  },
  {
   "cell_type": "code",
   "execution_count": 21,
   "metadata": {},
   "outputs": [
    {
     "data": {
      "text/plain": [
       "[<matplotlib.lines.Line2D at 0x119842c50>,\n",
       " <matplotlib.lines.Line2D at 0x119a037d0>,\n",
       " <matplotlib.lines.Line2D at 0x119a034d0>]"
      ]
     },
     "execution_count": 21,
     "metadata": {},
     "output_type": "execute_result"
    },
    {
     "data": {
      "image/png": "[encoded data removed]",
      "text/plain": [
       "<Figure size 432x288 with 1 Axes>"
      ]
     },
     "metadata": {
      "needs_background": "light"
     },
     "output_type": "display_data"
    }
   ],
   "source": [
    "#############################################\n",
    "#\n",
    "#  X-Y plot...\n",
    "#    with multiple series\n",
    "#\n",
    "\n",
    "plt.plot(N_array, pi_of_N - 0.1, 'ob:',\n",
    "         N_array, pi_of_N,       'og:',\n",
    "         N_array, pi_of_N + 0.1, 'or:')\n",
    "\n",
    "\n",
    "#\n",
    "#############################################"
   ]
  },
  {
   "cell_type": "markdown",
   "metadata": {},
   "source": [
    "As we've been doing these you've noticed that the axes are not labled, nor are there titles, and especially in this case, nor is there a legend showing which series is which.  \n",
    "\n",
    "You've made a pretty graph.  Don't get docked for not labeling it!  \n",
    "\n",
    "Here's how.\n",
    "\n",
    "These need to be done with a separate command for each attrubute... as shown here:"
   ]
  },
  {
   "cell_type": "code",
   "execution_count": 22,
   "metadata": {},
   "outputs": [
    {
     "data": {
      "text/plain": [
       "Text(0.5, 1.0, 'Estimating $\\\\pi$ with Reimann Sums')"
      ]
     },
     "execution_count": 22,
     "metadata": {},
     "output_type": "execute_result"
    },
    {
     "data": {
      "image/png": "[encoded data removed]",
      "text/plain": [
       "<Figure size 432x288 with 1 Axes>"
      ]
     },
     "metadata": {
      "needs_background": "light"
     },
     "output_type": "display_data"
    }
   ],
   "source": [
    "#############################################\n",
    "#\n",
    "#  X-Y plot...\n",
    "#    with an x- and y-axis label set.\n",
    "#    including a title\n",
    "#\n",
    "\n",
    "plt.plot(N_array,\n",
    "         pi_of_N,\n",
    "        'or:')\n",
    "plt.xlabel(\"Iterations (N)\")\n",
    "plt.ylabel(\"Estimated $\\pi$\")   # oooo look you can use LaTex Markup Here too!\n",
    "plt.title(\"Estimating $\\pi$ with Reimann Sums\")\n",
    "#\n",
    "#############################################"
   ]
  },
  {
   "cell_type": "markdown",
   "metadata": {},
   "source": [
    "And for our multiple series graph?"
   ]
  },
  {
   "cell_type": "code",
   "execution_count": 23,
   "metadata": {},
   "outputs": [
    {
     "data": {
      "text/plain": [
       "<matplotlib.legend.Legend at 0x11a0e8110>"
      ]
     },
     "execution_count": 23,
     "metadata": {},
     "output_type": "execute_result"
    },
    {
     "data": {
      "image/png": "[encoded data removed]",
      "text/plain": [
       "<Figure size 432x288 with 1 Axes>"
      ]
     },
     "metadata": {
      "needs_background": "light"
     },
     "output_type": "display_data"
    }
   ],
   "source": [
    "#############################################\n",
    "#\n",
    "#  X-Y plot...\n",
    "#    with multiple series\n",
    "#    ... and a legend\n",
    "#\n",
    "\n",
    "plt.plot(N_array, pi_of_N - 0.1, 'ob:',\n",
    "         N_array, pi_of_N,       'og:',\n",
    "         N_array, pi_of_N + 0.1, 'or:')\n",
    "plt.xlabel(\"Iterations (N)\")\n",
    "plt.ylabel(\"Estimated $\\pi$\")   # oooo look you can use LaTex Markup Here too!\n",
    "plt.title(\"Estimating $\\pi$ with Reimann Sums\")\n",
    "plt.legend([\"$\\pi - 1$\",\n",
    "            \"$\\pi$\",\n",
    "            \"$\\pi + 1$\"])\n",
    "\n",
    "#\n",
    "#############################################"
   ]
  },
  {
   "cell_type": "markdown",
   "metadata": {},
   "source": [
    "If you want a solid line going through the graph, there is a painless way to do that, too.\n",
    "\n",
    "* [matplotlib.pyplot.hlines(y, xmin, xmax)](https://matplotlib.org/3.1.1/api/_as_gen/matplotlib.pyplot.hlines.html#matplotlib.pyplot.hlines) - plot a horizontal line(s)\n",
    "* [matplotlib.pyplot.vlines(x, ymin, ymax)](https://matplotlib.org/3.1.1/api/_as_gen/matplotlib.pyplot.vlines.html#matplotlib.pyplot.vlines) - plot a vertical line(s)\n",
    "\n"
   ]
  },
  {
   "cell_type": "code",
   "execution_count": 24,
   "metadata": {},
   "outputs": [
    {
     "data": {
      "text/plain": [
       "Text(0.5, 1.0, 'Estimating $\\\\pi$ with Reimann Sums')"
      ]
     },
     "execution_count": 24,
     "metadata": {},
     "output_type": "execute_result"
    },
    {
     "data": {
      "image/png": "[encoded data removed]",
      "text/plain": [
       "<Figure size 432x288 with 1 Axes>"
      ]
     },
     "metadata": {
      "needs_background": "light"
     },
     "output_type": "display_data"
    }
   ],
   "source": [
    "#############################################\n",
    "#\n",
    "#  X-Y plot...\n",
    "#    with a reference horizontal line\n",
    "#\n",
    "\n",
    "plt.plot(N_array,\n",
    "         pi_of_N,\n",
    "        'or:')\n",
    "plt.hlines(np.pi, 0, 20, 'm')\n",
    "plt.xlabel(\"Iterations (N)\")\n",
    "plt.ylabel(\"Estimated $\\pi$\")   # oooo look you can use LaTex Markup Here too!\n",
    "plt.title(\"Estimating $\\pi$ with Reimann Sums\")\n",
    "\n",
    "#\n",
    "#############################################"
   ]
  },
  {
   "cell_type": "markdown",
   "metadata": {},
   "source": [
    "# Things to Try\n",
    "\n",
    "Once you are confortable with the plotting options for the x-y plots and their additional features (e.g., axes) explore the [matplotlib gallery](https://matplotlib.org/3.1.1/gallery/index.html) to see what other kinds of plottng are available with that package.  There are also some [sample tutorials](https://matplotlib.org/3.1.1/tutorials/index.html) as well as you become more ~reckless~ daring."
   ]
  },
  {
   "cell_type": "markdown",
   "metadata": {},
   "source": [
    "# Deep Dive: Another way to Declare Plots\n",
    "\n",
    "I used a very simple way to make graphs. \n",
    "\n",
    "But if you start googling for support on how to make graphs in Python, you will frequently see the following syntax offered as a solution.  This was one of the things that really confused me at first so I want to add this as a deep-dive.  \n",
    "\n",
    "This leverages the idea of \"[matplotlib.pyplot.subplots](https://matplotlib.org/3.1.1/api/_as_gen/matplotlib.pyplot.subplot.html#matplotlib.pyplot.subplot)\" that will let you use multiple plots in the same graphics space.  If you scroll down on the above link to [matplotlib.pyplot.subplots](https://matplotlib.org/3.1.1/api/_as_gen/matplotlib.pyplot.subplot.html#matplotlib.pyplot.subplot), you will see that these objects have their own modifiable attributes."
   ]
  },
  {
   "cell_type": "code",
   "execution_count": 25,
   "metadata": {},
   "outputs": [
    {
     "data": {
      "text/plain": [
       "Text(0.5, 1.0, 'Estimating $\\\\pi$ with Reimann Sums')"
      ]
     },
     "execution_count": 25,
     "metadata": {},
     "output_type": "execute_result"
    },
    {
     "data": {
      "image/png": "[encoded data removed]",
      "text/plain": [
       "<Figure size 432x288 with 1 Axes>"
      ]
     },
     "metadata": {
      "needs_background": "light"
     },
     "output_type": "display_data"
    }
   ],
   "source": [
    "#############################################\n",
    "#\n",
    "#  X-Y plot using the fig/ax subplot method\n",
    "#\n",
    "\n",
    "fig, ax = plt.subplots()\n",
    "\n",
    "\n",
    "\n",
    "ax.plot(N_array,\n",
    "         pi_of_N,\n",
    "        'or:')\n",
    "\n",
    "ax.hlines(np.pi, 0, 20, 'm')\n",
    "\n",
    "#\n",
    "# Notice the new use of \"set\" \n",
    "#\n",
    "\n",
    "ax.set_xlabel(\"Iterations (N)\")\n",
    "ax.set_ylabel(\"Estimated $\\pi$\")  \n",
    "ax.set_title(\"Estimating $\\pi$ with Reimann Sums\")\n",
    "\n",
    "#\n",
    "#############################################"
   ]
  },
  {
   "cell_type": "markdown",
   "metadata": {},
   "source": [
    "If you are making a plain simple plot the earlier method will likely work for you as you start Python.\n",
    "\n",
    "But if you want to start getting fancy, there are a lot of things that the ax and fig attributes will do for you.   \n",
    "\n",
    "This is an example with a lot of comments and handholding to make a four-pannel plot. \n",
    "\n",
    "(This is often far more work than I invest in making plots unless it's an automated process where I have to make a LOT of specialized plots.)"
   ]
  },
  {
   "cell_type": "code",
   "execution_count": 26,
   "metadata": {},
   "outputs": [
    {
     "data": {
      "text/plain": [
       "Text(0.5, 0.98, 'Example of 2x2 Plot Area')"
      ]
     },
     "execution_count": 26,
     "metadata": {},
     "output_type": "execute_result"
    },
    {
     "data": {
      "image/png": "[encoded data removed]",
      "text/plain": [
       "<Figure size 432x288 with 4 Axes>"
      ]
     },
     "metadata": {
      "needs_background": "light"
     },
     "output_type": "display_data"
    }
   ],
   "source": [
    "#############################################\n",
    "#\n",
    "#  Make a 2x2 plot with differennt logs on the \n",
    "#    axes to demonstrate leveraging the ax-and-fig\n",
    "#    method of plotting.\n",
    "#\n",
    "# We'll start by making a pair of x-ys.\n",
    "#\n",
    "#           x = array from 1-10\n",
    "#           y = x - squared\n",
    "#\n",
    "\n",
    "x = np.arange(1,10+1)\n",
    "y = x**2\n",
    "\n",
    "#\n",
    "# We'll start with the subplot command which\n",
    "#    will let us make 2 rows (first argument)\n",
    "#    and 2 columns.  \n",
    "#\n",
    "# The second modifier pair instruct the matplotlib\n",
    "#    \"share\" the axis attributes for each plot.\n",
    "#\n",
    "# When we do this, FIG will represent the atributes \n",
    "#     of the whole plotting area.\n",
    "#\n",
    "# The acutal \"subplots\" are typically called \"ax\"\n",
    "#     which you can consider to be the \n",
    "#\n",
    "\n",
    "\n",
    "fig, ax = plt.subplots(2,            # 2 rows in the y\n",
    "                       2,            # 2 cols in the x\n",
    "                       sharex='col', # set the colum (x axes to match)\n",
    "                       sharey='row') # set the rows (y axes to match)\n",
    "\n",
    "#\n",
    "# We're going to arrange this as a 4-plot image with both\n",
    "#    linear and log axes\n",
    "#\n",
    "# First Y [0,:] axis = Linear \n",
    "# First X [:,0] axis = Linear\n",
    "#\n",
    "# Second Y [1,:] axis = Log\n",
    "# Second X [:,1] axis = Log\n",
    "#\n",
    "\n",
    "\n",
    "#  Top Row\n",
    "#  Y, X <- Row comes first \n",
    "ax[0, 0].plot(    x, y, \"g\")  # Top Left (green)\n",
    "ax[0, 1].semilogx(x, y, \"k\")  # Top Right (black)\n",
    "\n",
    "\n",
    "#  Bottom Row\n",
    "#  Y, X <- Row comes first\n",
    "ax[1, 0].semilogy(x, y, \"r\")  # Bottom Left (red)\n",
    "ax[1, 1].loglog(  x, y, \"b\")  # Bottom Right (blue)\n",
    "\n",
    "\n",
    "#  Let's do the Y axis Labels - \n",
    "ax[0, 0].set_ylabel(\"$x^2$\")  \n",
    "ax[1, 0].set_ylabel(\"$x^2$ [logged axis]\")  \n",
    "\n",
    "ax[1, 0].set_xlabel(\"x\")\n",
    "ax[1, 1].set_xlabel(\"x [logged Axis]\")\n",
    "\n",
    "#  And finally the title (the title here\n",
    "#     is for the figture not any given\n",
    "#     subplot)\n",
    "\n",
    "fig.suptitle(\"Example of 2x2 Plot Area\")\n",
    "\n",
    "#\n",
    "############################################"
   ]
  },
  {
   "cell_type": "markdown",
   "metadata": {},
   "source": [
    "# Version Information"
   ]
  },
  {
   "cell_type": "code",
   "execution_count": 27,
   "metadata": {},
   "outputs": [
    {
     "data": {
      "application/json": {
       "Software versions": [
        {
         "module": "Python",
         "version": "3.7.7 64bit [Clang 11.0.0 (clang-1100.0.33.17)]"
        },
        {
         "module": "IPython",
         "version": "7.13.0"
        },
        {
         "module": "OS",
         "version": "Darwin 19.4.0 x86_64 i386 64bit"
        },
        {
         "module": "version_information",
         "version": "1.0.3"
        },
        {
         "module": "numpy",
         "version": "1.18.2"
        },
        {
         "module": "matplotlib",
         "version": "3.2.1"
        }
       ]
      },
      "text/html": [
       "<table><tr><th>Software</th><th>Version</th></tr><tr><td>Python</td><td>3.7.7 64bit [Clang 11.0.0 (clang-1100.0.33.17)]</td></tr><tr><td>IPython</td><td>7.13.0</td></tr><tr><td>OS</td><td>Darwin 19.4.0 x86_64 i386 64bit</td></tr><tr><td>version_information</td><td>1.0.3</td></tr><tr><td>numpy</td><td>1.18.2</td></tr><tr><td>matplotlib</td><td>3.2.1</td></tr><tr><td colspan='2'>Fri Apr 17 14:19:39 2020 MDT</td></tr></table>"
      ],
      "text/latex": [
       "\\begin{tabular}{|l|l|}\\hline\n",
       "{\\bf Software} & {\\bf Version} \\\\ \\hline\\hline\n",
       "Python & 3.7.7 64bit [Clang 11.0.0 (clang-1100.0.33.17)] \\\\ \\hline\n",
       "IPython & 7.13.0 \\\\ \\hline\n",
       "OS & Darwin 19.4.0 x86\\_64 i386 64bit \\\\ \\hline\n",
       "version_information & 1.0.3 \\\\ \\hline\n",
       "numpy & 1.18.2 \\\\ \\hline\n",
       "matplotlib & 3.2.1 \\\\ \\hline\n",
       "\\hline \\multicolumn{2}{|l|}{Fri Apr 17 14:19:39 2020 MDT} \\\\ \\hline\n",
       "\\end{tabular}\n"
      ],
      "text/plain": [
       "Software versions\n",
       "Python 3.7.7 64bit [Clang 11.0.0 (clang-1100.0.33.17)]\n",
       "IPython 7.13.0\n",
       "OS Darwin 19.4.0 x86_64 i386 64bit\n",
       "version_information 1.0.3\n",
       "numpy 1.18.2\n",
       "matplotlib 3.2.1\n",
       "Fri Apr 17 14:19:39 2020 MDT"
      ]
     },
     "execution_count": 27,
     "metadata": {},
     "output_type": "execute_result"
    }
   ],
   "source": [
    "################################################################\n",
    "#\n",
    "# Loading Version Information\n",
    "#\n",
    "\n",
    "%load_ext version_information\n",
    "\n",
    "%version_information version_information, numpy, matplotlib\n",
    "\n",
    "#\n",
    "################################################################"
   ]
  }
 ],
 "metadata": {
  "kernelspec": {
   "display_name": "Python 3",
   "language": "python",
   "name": "python3"
  },
  "language_info": {
   "codemirror_mode": {
    "name": "ipython",
    "version": 3
   },
   "file_extension": ".py",
   "mimetype": "text/x-python",
   "name": "python",
   "nbconvert_exporter": "python",
   "pygments_lexer": "ipython3",
   "version": "3.8.3"
  }
 },
 "nbformat": 4,
 "nbformat_minor": 2
}
