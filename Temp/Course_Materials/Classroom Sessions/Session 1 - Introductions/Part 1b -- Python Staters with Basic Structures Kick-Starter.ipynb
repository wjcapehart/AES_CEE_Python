{
 "cells": [
  {
   "cell_type": "markdown",
   "metadata": {},
   "source": [
    "![CEE Masthead](http://kyrill.ias.sdsmt.edu/wjc/eduresources/CEE_284_Masthead.png)\n",
    "# Part 1b -- Python Basic Structures (Starter-Pack)\n",
    "\n",
    "## Victory Laps for This Session \n",
    "\n",
    "For this session we will explore\n",
    "\n",
    "*  Simple Output to The Screen\n",
    "*  Elementary Arithmetic\n",
    "*  Data Elements of Basic Python\n",
    "  *  Integers\n",
    "  *  Floating Points\n",
    "  *  Character Strings\n",
    "  *  Lists (Arrays come later)\n",
    "    *  Indexing arrays\n",
    "    *  How indexing in Python is different from other languages\n",
    "*  Loops\n",
    "  *  \"Counting\" through a \"range\"\n",
    "  *  Walking through a list\n",
    "  *  While Loops\n",
    "*  If-Elif-Else Structures\n",
    "\n",
    "So let’s resume where we left off from last time.\n",
    "\n",
    "## Hello World\n",
    "\n",
    "It’s a tradition.  We do it in nearly every language we teach.  Here we will use it to demonstrate how we print stuff to the string with the basic python routine “print”\n",
    "\n",
    "Specifically let's look at the [print](https://docs.python.org/3/library/functions.html#print) function.  Here we are only printing a string.  But also notice as we play below that \n",
    "\n",
    "1.  It doesn't matter (so far) if you use single or double quotes so long as you close with who opened it.\n",
    "2.  You can separate character strings with \n",
    "  1.  a comma (which will slide in an extra breaking space), or \n",
    "  2.  a plus (which directly abutts each string against each other with no padding)  \n",
    "  \n",
    "When we start playing with numbers and printing them, that will change a little.\n"
   ]
  },
  {
   "cell_type": "code",
   "execution_count": 1,
   "metadata": {},
   "outputs": [],
   "source": [
    "#####################################################\n",
    "#\n",
    "# Hello World (Comments in Python start with a #Capital-3)\n",
    "#\n",
    "\n",
    "\n",
    "\n",
    "#\n",
    "#####################################################"
   ]
  },
  {
   "cell_type": "markdown",
   "metadata": {},
   "source": [
    "## Python Arithmetic\n",
    "\n",
    "This section does not include complex math functions such as trig functions, logs, etc.\n",
    "\n",
    "This is just going to cover the basic things found on most cheap calculators.\n",
    "\n",
    "The basic operators are pretty intuitive if you've worked with Excel or other languages.\n",
    "\n",
    "*  (+) addition\n",
    "*  (-) subtraction\n",
    "*  (*) multiplication\n",
    "*  (/) division\n",
    "*  (%) modulus (aka the remainder from division)\n",
    "*  (**) raising the former to the latter's power.  \n",
    "  *  You probably were expecting a \"capital-6\" (^). The (**) is how it's done in Fortran.\n",
    "  *  If you are a C-programmer and want to use the pow(x,y) function that is also available as a intrinsic (built-in).\n",
    "\n",
    "The order of operations are the same as in basic arithmetic.  "
   ]
  },
  {
   "cell_type": "code",
   "execution_count": 2,
   "metadata": {},
   "outputs": [],
   "source": [
    "#####################################################\n",
    "#\n",
    "# The Traditional Arithmetic Operators\n",
    "# \n",
    "#    Try these with a + instead of a comma as a\n",
    "#       separator\n",
    "#\n",
    "\n",
    "\n",
    "\n",
    "#\n",
    "#####################################################"
   ]
  },
  {
   "cell_type": "markdown",
   "metadata": {},
   "source": [
    "## A few simple intrinsic functions\n",
    "\n",
    "If you tried to use a + sign to separate the string and calculation above, you got an error.  \n",
    "\n",
    "The (+) sign joins (or \"concatenates\") strings, the comma will join separate data \"types\".  A plus WILL work if you convert the number into a string with the [str()](https://docs.python.org/3/library/stdtypes.html#text-sequence-type-str) function (and notice the change in typesetting when you try it!):"
   ]
  },
  {
   "cell_type": "code",
   "execution_count": 3,
   "metadata": {},
   "outputs": [],
   "source": [
    "#####################################################\n",
    "#\n",
    "# Comparing printing ... \n",
    "#\n",
    "#    a number as a number separated with a comma\n",
    "#\n",
    "\n",
    "\n",
    "\n",
    "#\n",
    "#    and a number as a string with both a comma \n",
    "#       and a  plus\n",
    "#\n",
    "\n",
    "\n",
    "\n",
    "#\n",
    "#####################################################"
   ]
  },
  {
   "cell_type": "markdown",
   "metadata": {},
   "source": [
    "There are a few other onboard intrinsic [functions](https://docs.python.org/3/library/functions.html).  But for many of the math functions you may take for granted (unless you've been using Mathcad and remember what happens when you are off the campus license server!), those will be accessed with external libaries which we will cover in subsequent sessions."
   ]
  },
  {
   "cell_type": "markdown",
   "metadata": {},
   "source": [
    "## Data Types\n",
    "As with other languages there are multiple data types with which to work.  Here are a few of them and how to \"active\" them.\n",
    "\n",
    "### Integers\n",
    "\n",
    "These are the easiest.  Just type it in without a decimal.  Bytes in Python 3 should be 8-bytes long which gives them a dynamic range of (−9,223,372,036,854,775,807 to +9,223,372,036,854,775,807).\n"
   ]
  },
  {
   "cell_type": "code",
   "execution_count": 4,
   "metadata": {},
   "outputs": [],
   "source": [
    "#####################################################\n",
    "#\n",
    "# Integers ... \n",
    "#\n",
    "#   Plain old counting numbers\n",
    "#\n",
    "\n",
    "\n",
    "\n",
    "\n",
    "#\n",
    "#####################################################"
   ]
  },
  {
   "cell_type": "markdown",
   "metadata": {},
   "source": [
    "This last one is rather nice because some languages will return a integer from an operation of two integers no matter what the results.\n",
    "\n",
    "If you are unclear that after beating on a value if it's an integer or note you can query it's status as shown in the example below."
   ]
  },
  {
   "cell_type": "code",
   "execution_count": 5,
   "metadata": {},
   "outputs": [],
   "source": [
    "#####################################################\n",
    "#\n",
    "# Am I an integer or floating point?\n",
    "#\n",
    "\n",
    "\n",
    "\n",
    "#\n",
    "#\n",
    "\n",
    "\n",
    "\n",
    "\n",
    "#\n",
    "#####################################################"
   ]
  },
  {
   "cell_type": "markdown",
   "metadata": {},
   "source": [
    "... and that last one brings us to\n",
    "\n",
    "## Floating Points\n",
    "\n",
    "In python 3 Floating points are 8-bytes long (what we call \"double precision) should be able to go from an exponent range $10^{-308}$ to  $10^{+308}$  and 15-17 significant figures.\n",
    "\n",
    "Calling one just requires a decimal place or an \"e\" to create a mantisa-exponent pair like you would in excel or any other language.\n",
    "\n",
    "Thus,"
   ]
  },
  {
   "cell_type": "code",
   "execution_count": 6,
   "metadata": {},
   "outputs": [],
   "source": [
    "#####################################################\n",
    "#\n",
    "# Floating Points ... \n",
    "#\n",
    "\n",
    "\n",
    "\n",
    "#\n",
    "#####################################################"
   ]
  },
  {
   "cell_type": "markdown",
   "metadata": {},
   "source": [
    "### \"I will get over this because I am shallow and self-centered...  You, however, are [snort] *complex*.  You will be agonizing over this for months!\"\n",
    "\n",
    "Complex Numbers can be created by calculating them or by initial design.  Note what we use for the value of $i=\\sqrt{-1}$.  They use j."
   ]
  },
  {
   "cell_type": "code",
   "execution_count": 7,
   "metadata": {},
   "outputs": [],
   "source": [
    "#####################################################\n",
    "#\n",
    "# Complex numbers... \n",
    "#\n",
    "\n",
    "\n",
    "\n",
    "#\n",
    "#####################################################"
   ]
  },
  {
   "cell_type": "markdown",
   "metadata": {},
   "source": [
    "### Characters and Strings\n",
    "\n",
    "Characters and strings are easy to produce with either a pair of single-quotes or a pair of double-quotes. "
   ]
  },
  {
   "cell_type": "code",
   "execution_count": 8,
   "metadata": {},
   "outputs": [],
   "source": [
    "#####################################################\n",
    "#\n",
    "# Strings and Characters\n",
    "#\n",
    "\n",
    "\n",
    "\n",
    "#\n",
    "#####################################################"
   ]
  },
  {
   "cell_type": "markdown",
   "metadata": {},
   "source": [
    "### Lists and Arrays\n",
    "\n",
    "Arrays and Lists are treated differently.  Arrays will be addressed in a future session on Numerical Python (NumPy). \n",
    "\n",
    "For lists it's easy.  They are 1-D lists (*but not vectors*) with brackets for \"wrapping\" and commas to delimit the members of the list:"
   ]
  },
  {
   "cell_type": "code",
   "execution_count": 9,
   "metadata": {},
   "outputs": [],
   "source": [
    "#####################################################\n",
    "#\n",
    "# Lists\n",
    "#\n",
    "\n",
    "\n",
    "\n",
    "#\n",
    "\n",
    "\n",
    "\n",
    "#\n",
    "#####################################################"
   ]
  },
  {
   "cell_type": "markdown",
   "metadata": {},
   "source": [
    "(Whoa!  Did those two do what you expected?  A list is NOT an array or traditional vector.  It operates more like a string.  So in both cases (even the 2*a case which surprised me!) concatenate the lists rather than peform math on them."
   ]
  },
  {
   "cell_type": "markdown",
   "metadata": {},
   "source": [
    "### Indexing Arrays and Lists in Python... This is going to get weird!\n",
    "\n",
    "Indexing in Python starts at zero.  Indicies are wrapped in brackets (not parentheses) So for example getting the above first element in list \"b\" is ..."
   ]
  },
  {
   "cell_type": "code",
   "execution_count": 10,
   "metadata": {},
   "outputs": [],
   "source": [
    "#####################################################\n",
    "#\n",
    "\n",
    "\n",
    "#\n",
    "#####################################################"
   ]
  },
  {
   "cell_type": "code",
   "execution_count": 11,
   "metadata": {},
   "outputs": [],
   "source": [
    "#####################################################\n",
    "#\n",
    "\n",
    "\n",
    "#\n",
    "#####################################################"
   ]
  },
  {
   "cell_type": "markdown",
   "metadata": {},
   "source": [
    "That's straight forward enough.  But what if you want to print a range of elements.  Let's say the first 3 elements (0, 1 & 2). To fetch more than one you can use the : to create the range - this is similar to other languages."
   ]
  },
  {
   "cell_type": "code",
   "execution_count": 12,
   "metadata": {},
   "outputs": [],
   "source": [
    "#####################################################\n",
    "#\n",
    "\n",
    "\n",
    "#\n",
    "#####################################################"
   ]
  },
  {
   "cell_type": "markdown",
   "metadata": {},
   "source": [
    "Whoa (again).  This is a quirk of Python that isn't in other languages. \n",
    "\n",
    "The first listed index in a range is \"inclusive\" meaning that the first index you ask for is the first you get!  (As it should be yes?)  \n",
    "\n",
    "BUT... (and there's always a \"but\" isn't there?)\n",
    "\n",
    "The second listed index in a given range is \"EXCLUSIVE.\"  That means that it is one ***PLUS*** the *listed* index.  So if we want to do the above example and do the first three, it must look like the one below."
   ]
  },
  {
   "cell_type": "code",
   "execution_count": 13,
   "metadata": {},
   "outputs": [],
   "source": [
    "#####################################################\n",
    "#\n",
    "\n",
    "\n",
    "\n",
    "#\n",
    "#####################################################"
   ]
  },
  {
   "cell_type": "markdown",
   "metadata": {},
   "source": [
    "#### And who came up with *that* winning idea?!?\n",
    "\n",
    "I've seen a lot of apologetics for this.  The ~~best~~ lest-unconvincing one to me is to accomodate how we think when we count vs how things indexing at zero work:\n",
    "\n",
    "\"index from 0 for the 3 spaces.\"\n",
    "\n",
    "I'm still not convinced in part because I've spent ~~years~~ decades explicitly saying 0 to N-1.  "
   ]
  },
  {
   "cell_type": "markdown",
   "metadata": {},
   "source": [
    "### Creating Ranges in Python\n",
    "\n",
    "This comes in handy to remember when you work shortly in loops or otherwise have to make a series of numbers to walk through in Python.\n",
    "\n",
    "The function to do this is called \"[range(*start*,*stop+1*,[*delta*])]\"(https://docs.python.org/3/library/functions.html#func-range)\n",
    "\n",
    "if your interval is one then you don't need that last argument.\n",
    "\n",
    "An example of this making a counting list from 1 to 10 is below.  However the data class in which a range is stored is accessed normally only through a loop (which we will need to do next)."
   ]
  },
  {
   "cell_type": "code",
   "execution_count": 14,
   "metadata": {},
   "outputs": [],
   "source": [
    "#####################################################\n",
    "#\n",
    "# Range from 1 to 10\n",
    "#\n",
    "\n",
    "\n",
    "#\n",
    "#####################################################"
   ]
  },
  {
   "cell_type": "markdown",
   "metadata": {},
   "source": [
    "## Loops\n",
    "\n",
    "And that is a good segue into loops.  \n",
    "\n",
    "There two species of loops\n",
    "\n",
    "### Counting Loops (The For Loop)\n",
    "\n",
    "Counting Loops leverage Ranges which as we saw above have that inclusive exclusive pairing.\n",
    "\n",
    "And we just did one... \n",
    "\n",
    "A few things.\n",
    "\n",
    "*  The Loops and If-Elif-Else Blocks start with : at the starter line.  \n",
    "*  You must then indent (Jupyter will do it for you).  \n",
    "*  When done with the indent the \"cue\" that you are out of the structure is simply returning to the previous indent level (or hard against the left margin).  You'll see a nested system shortly."
   ]
  },
  {
   "cell_type": "code",
   "execution_count": 15,
   "metadata": {},
   "outputs": [],
   "source": [
    "#####################################################\n",
    "#\n",
    "# Range from 1 to 10\n",
    "#\n",
    "\n",
    "\n",
    "#\n",
    "#####################################################"
   ]
  },
  {
   "cell_type": "markdown",
   "metadata": {},
   "source": [
    "It also works with lists"
   ]
  },
  {
   "cell_type": "code",
   "execution_count": 16,
   "metadata": {},
   "outputs": [],
   "source": [
    "#####################################################\n",
    "#\n",
    "# For Looping through a List\n",
    "#\n",
    "#   notice that continuation is just starting a new\n",
    "#      line like you can do in R\n",
    "#\n",
    "\n",
    "\n",
    "\n",
    "#\n",
    "#####################################################"
   ]
  },
  {
   "cell_type": "markdown",
   "metadata": {},
   "source": [
    "### Conditional Loops (The While Loop)\n",
    "\n",
    "This one drops out when the condition is satisfied (this is what we used when we programmed Roots in Mathcad)\n",
    "\n",
    "And let's do a revisit to our first foray into programming!\n",
    "\n",
    "![Flowchart from the Presentation from CEE 284 Lecture 2](http://kyrill.ias.sdsmt.edu/wjc/eduresources/Lecture_2_Flowchart.png)"
   ]
  },
  {
   "cell_type": "code",
   "execution_count": 17,
   "metadata": {},
   "outputs": [],
   "source": [
    "#####################################################\n",
    "#\n",
    "# Try the Above While Loop!! (using our first loop EVER!)\n",
    "#\n",
    "\n",
    "\n",
    "\n",
    "#\n",
    "#####################################################"
   ]
  },
  {
   "cell_type": "markdown",
   "metadata": {},
   "source": [
    "## Decision Blocks\n",
    "\n",
    "We often have choices to make when we program... here are the classics that come with Python.  Note that if you are used to using a \"case\" statement which exists in a number of languages, it's not explicitly included with Python.\n",
    "\n",
    "### A Cascading If-ElseIf-Else Block\n",
    "\n",
    "This one is a redux of the vending machine problem from Lecture 2.  Remember if you know you have a dime, you don't have to ask again if it's a nickel.\n",
    "\n",
    "Here Else If is compressed into a single word, \"elif.\""
   ]
  },
  {
   "cell_type": "code",
   "execution_count": 18,
   "metadata": {},
   "outputs": [],
   "source": [
    "#####################################################\n",
    "#\n",
    "# If-Elif-Else Block  Try the Vending Machine Coin Test!!\n",
    "#\n",
    "\n",
    "\n",
    "\n",
    "#\n",
    "#####################################################"
   ]
  },
  {
   "cell_type": "markdown",
   "metadata": {},
   "source": [
    "### Single Question If Statements\n",
    "\n",
    "This one is easy...  Remember after any of these questions you still have to ask the next questions"
   ]
  },
  {
   "cell_type": "code",
   "execution_count": 19,
   "metadata": {},
   "outputs": [],
   "source": [
    "#####################################################\n",
    "#\n",
    "# Singular If Statement \n",
    "#\n",
    "#   (also showing multiple conditions)\n",
    "#\n",
    "\n",
    "\n",
    "#\n",
    "#####################################################"
   ]
  },
  {
   "cell_type": "markdown",
   "metadata": {},
   "source": [
    "## Playtime!\n",
    "\n",
    "There are a couple things you can try with the skills you have now.  But this one we can use later when we plot things!\n",
    "\n",
    "### Our Pi Case.\n",
    "\n",
    "You've done this before... you can do it here.  \n",
    "\n",
    "Recall that we are using a Reimann Sum method to do this.\n",
    "\n",
    "![Reimann Summing for Pi](http://kyrill.ias.sdsmt.edu/wjc/eduresources/PI_Integration_Figure.png)\n",
    "\n",
    "Remember the base equation\n",
    "\n",
    "$$\\pi =\\frac{1}{N}\\sum^{N}_{i=1}\\frac{4}{1+x^2}$$\n",
    "\n",
    "And the pseudocode.  \n",
    "\n",
    "Just enter the block below by declaring a variable n.\n",
    "\n",
    "```\n",
    "Input the value “n” \n",
    "if n < 1 then\n",
    "{\n",
    "   print an error statement\n",
    "}\n",
    "else \n",
    "{\n",
    "   h = 1 / n\n",
    "   sum  = 0\n",
    "   repeat i from 1 to n by 1\n",
    "   {\n",
    "      x = h * (i - 0.5)\n",
    "      sum = sum + 4 / (1 + x*x)\n",
    "   }\n",
    "   pi = h * sum\n",
    "   return, pi\n",
    "}\n",
    "```"
   ]
  },
  {
   "cell_type": "markdown",
   "metadata": {},
   "source": [
    "## Version Information"
   ]
  },
  {
   "cell_type": "code",
   "execution_count": 20,
   "metadata": {},
   "outputs": [
    {
     "data": {
      "application/json": {
       "Software versions": [
        {
         "module": "Python",
         "version": "3.7.7 64bit [Clang 11.0.0 (clang-1100.0.33.17)]"
        },
        {
         "module": "IPython",
         "version": "7.10.2"
        },
        {
         "module": "OS",
         "version": "Darwin 19.4.0 x86_64 i386 64bit"
        },
        {
         "module": "version_information",
         "version": "1.0.3"
        }
       ]
      },
      "text/html": [
       "<table><tr><th>Software</th><th>Version</th></tr><tr><td>Python</td><td>3.7.7 64bit [Clang 11.0.0 (clang-1100.0.33.17)]</td></tr><tr><td>IPython</td><td>7.10.2</td></tr><tr><td>OS</td><td>Darwin 19.4.0 x86_64 i386 64bit</td></tr><tr><td>version_information</td><td>1.0.3</td></tr><tr><td colspan='2'>Wed Apr 08 20:29:27 2020 MDT</td></tr></table>"
      ],
      "text/latex": [
       "\\begin{tabular}{|l|l|}\\hline\n",
       "{\\bf Software} & {\\bf Version} \\\\ \\hline\\hline\n",
       "Python & 3.7.7 64bit [Clang 11.0.0 (clang-1100.0.33.17)] \\\\ \\hline\n",
       "IPython & 7.10.2 \\\\ \\hline\n",
       "OS & Darwin 19.4.0 x86\\_64 i386 64bit \\\\ \\hline\n",
       "version_information & 1.0.3 \\\\ \\hline\n",
       "\\hline \\multicolumn{2}{|l|}{Wed Apr 08 20:29:27 2020 MDT} \\\\ \\hline\n",
       "\\end{tabular}\n"
      ],
      "text/plain": [
       "Software versions\n",
       "Python 3.7.7 64bit [Clang 11.0.0 (clang-1100.0.33.17)]\n",
       "IPython 7.10.2\n",
       "OS Darwin 19.4.0 x86_64 i386 64bit\n",
       "version_information 1.0.3\n",
       "Wed Apr 08 20:29:27 2020 MDT"
      ]
     },
     "execution_count": 20,
     "metadata": {},
     "output_type": "execute_result"
    }
   ],
   "source": [
    "################################################################\n",
    "#\n",
    "# Loading Version Information\n",
    "#\n",
    "\n",
    "%load_ext version_information\n",
    "%version_information version_information\n",
    "\n",
    "#\n",
    "################################################################"
   ]
  },
  {
   "cell_type": "code",
   "execution_count": null,
   "metadata": {},
   "outputs": [],
   "source": []
  }
 ],
 "metadata": {
  "kernelspec": {
   "display_name": "Python 3",
   "language": "python",
   "name": "python3"
  },
  "language_info": {
   "codemirror_mode": {
    "name": "ipython",
    "version": 3
   },
   "file_extension": ".py",
   "mimetype": "text/x-python",
   "name": "python",
   "nbconvert_exporter": "python",
   "pygments_lexer": "ipython3",
   "version": "3.7.7"
  }
 },
 "nbformat": 4,
 "nbformat_minor": 2
}
